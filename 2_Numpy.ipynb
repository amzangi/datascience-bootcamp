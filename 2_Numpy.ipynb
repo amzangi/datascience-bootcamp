{
  "nbformat": 4,
  "nbformat_minor": 0,
  "metadata": {
    "kernelspec": {
      "display_name": "Python 3",
      "language": "python",
      "name": "python3"
    },
    "language_info": {
      "codemirror_mode": {
        "name": "ipython",
        "version": 3
      },
      "file_extension": ".py",
      "mimetype": "text/x-python",
      "name": "python",
      "nbconvert_exporter": "python",
      "pygments_lexer": "ipython3",
      "version": "3.7.6"
    },
    "colab": {
      "name": "2_Numpy.ipynb",
      "provenance": [],
      "include_colab_link": true
    }
  },
  "cells": [
    {
      "cell_type": "markdown",
      "metadata": {
        "id": "view-in-github",
        "colab_type": "text"
      },
      "source": [
        "<a href=\"https://colab.research.google.com/github/amzangi/datascience-bootcamp/blob/master/2_Numpy.ipynb\" target=\"_parent\"><img src=\"https://colab.research.google.com/assets/colab-badge.svg\" alt=\"Open In Colab\"/></a>"
      ]
    },
    {
      "cell_type": "code",
      "metadata": {
        "id": "AWXx8AGQNAQQ"
      },
      "source": [
        "import numpy as np"
      ],
      "execution_count": null,
      "outputs": []
    },
    {
      "cell_type": "code",
      "metadata": {
        "id": "otQrA7j2NAQR",
        "colab": {
          "base_uri": "https://localhost:8080/"
        },
        "outputId": "c204624d-bab6-4c7c-fd9c-65384b15939a"
      },
      "source": [
        "L = list(range(11))\n",
        "L"
      ],
      "execution_count": null,
      "outputs": [
        {
          "output_type": "execute_result",
          "data": {
            "text/plain": [
              "[0, 1, 2, 3, 4, 5, 6, 7, 8, 9, 10]"
            ]
          },
          "metadata": {
            "tags": []
          },
          "execution_count": 3
        }
      ]
    },
    {
      "cell_type": "code",
      "metadata": {
        "id": "tl8omjBUNAQT",
        "colab": {
          "base_uri": "https://localhost:8080/"
        },
        "outputId": "ec84a170-b874-4691-8f7c-6d29d886ffac"
      },
      "source": [
        "type(L[0])"
      ],
      "execution_count": null,
      "outputs": [
        {
          "output_type": "execute_result",
          "data": {
            "text/plain": [
              "int"
            ]
          },
          "metadata": {
            "tags": []
          },
          "execution_count": 4
        }
      ]
    },
    {
      "cell_type": "code",
      "metadata": {
        "id": "M11klYwgNAQW",
        "colab": {
          "base_uri": "https://localhost:8080/"
        },
        "outputId": "f926a73d-4d27-4358-c373-0b7cca38b260"
      },
      "source": [
        "L2 = [str(c) for c in L]\n",
        "L2"
      ],
      "execution_count": null,
      "outputs": [
        {
          "output_type": "execute_result",
          "data": {
            "text/plain": [
              "['0', '1', '2', '3', '4', '5', '6', '7', '8', '9', '10']"
            ]
          },
          "metadata": {
            "tags": []
          },
          "execution_count": 5
        }
      ]
    },
    {
      "cell_type": "code",
      "metadata": {
        "id": "j-MHf4uyNAQX",
        "colab": {
          "base_uri": "https://localhost:8080/"
        },
        "outputId": "f10ebc09-aaf2-4d11-b986-84e1f958c0ed"
      },
      "source": [
        "type(L2[0])"
      ],
      "execution_count": null,
      "outputs": [
        {
          "output_type": "execute_result",
          "data": {
            "text/plain": [
              "str"
            ]
          },
          "metadata": {
            "tags": []
          },
          "execution_count": 6
        }
      ]
    },
    {
      "cell_type": "code",
      "metadata": {
        "id": "gkK0XvWtNAQX",
        "colab": {
          "base_uri": "https://localhost:8080/"
        },
        "outputId": "9ff288b9-fd0e-43f4-9d9c-6eea34eddd37"
      },
      "source": [
        "np.array(range(10))"
      ],
      "execution_count": null,
      "outputs": [
        {
          "output_type": "execute_result",
          "data": {
            "text/plain": [
              "array([0, 1, 2, 3, 4, 5, 6, 7, 8, 9])"
            ]
          },
          "metadata": {
            "tags": []
          },
          "execution_count": 7
        }
      ]
    },
    {
      "cell_type": "code",
      "metadata": {
        "id": "76yW2jAZNAQY",
        "colab": {
          "base_uri": "https://localhost:8080/"
        },
        "outputId": "5858422a-743c-41f1-fc21-d84dc96e6b78"
      },
      "source": [
        "# Remember that unlike Python lists, NumPy is constrained to arrays that all contain the same type. \n",
        "np.array([3.14, 1, 3])"
      ],
      "execution_count": null,
      "outputs": [
        {
          "output_type": "execute_result",
          "data": {
            "text/plain": [
              "array([3.14, 1.  , 3.  ])"
            ]
          },
          "metadata": {
            "tags": []
          },
          "execution_count": 8
        }
      ]
    },
    {
      "cell_type": "code",
      "metadata": {
        "id": "eyiMr1TVNAQZ",
        "colab": {
          "base_uri": "https://localhost:8080/"
        },
        "outputId": "e77067f5-35a1-4680-d048-ec6024842834"
      },
      "source": [
        "# To explicitly set the data type\n",
        "np.array([1,2,3,4], dtype='float32')"
      ],
      "execution_count": null,
      "outputs": [
        {
          "output_type": "execute_result",
          "data": {
            "text/plain": [
              "array([1., 2., 3., 4.], dtype=float32)"
            ]
          },
          "metadata": {
            "tags": []
          },
          "execution_count": 9
        }
      ]
    },
    {
      "cell_type": "code",
      "metadata": {
        "id": "IM-ZSjvzNAQa",
        "colab": {
          "base_uri": "https://localhost:8080/"
        },
        "outputId": "43e19ef4-d407-4766-8ef5-2d23bb7dc0d2"
      },
      "source": [
        "# Unlike Python lists, NumPy arrays can explicitly be multidimensional.\n",
        "np.array([range(i, i+3) for i in [2,4,6]])"
      ],
      "execution_count": null,
      "outputs": [
        {
          "output_type": "execute_result",
          "data": {
            "text/plain": [
              "array([[2, 3, 4],\n",
              "       [4, 5, 6],\n",
              "       [6, 7, 8]])"
            ]
          },
          "metadata": {
            "tags": []
          },
          "execution_count": 10
        }
      ]
    },
    {
      "cell_type": "markdown",
      "metadata": {
        "id": "4eE6V3wQNAQa"
      },
      "source": [
        "## Using routines built into NumPy"
      ]
    },
    {
      "cell_type": "code",
      "metadata": {
        "id": "1cF4P6p9NAQb",
        "colab": {
          "base_uri": "https://localhost:8080/"
        },
        "outputId": "86f57665-e5e0-4405-8d85-3dd810a61f56"
      },
      "source": [
        "# array filled with zeros\n",
        "np.zeros(10, dtype=int)"
      ],
      "execution_count": null,
      "outputs": [
        {
          "output_type": "execute_result",
          "data": {
            "text/plain": [
              "array([0, 0, 0, 0, 0, 0, 0, 0, 0, 0])"
            ]
          },
          "metadata": {
            "tags": []
          },
          "execution_count": 11
        }
      ]
    },
    {
      "cell_type": "code",
      "metadata": {
        "id": "n1-J12G6NAQb",
        "colab": {
          "base_uri": "https://localhost:8080/"
        },
        "outputId": "ec50739c-57d4-46e0-ea97-c45f8f9365b3"
      },
      "source": [
        "# array filled with ones\n",
        "np.ones((3,5), dtype=float)"
      ],
      "execution_count": null,
      "outputs": [
        {
          "output_type": "execute_result",
          "data": {
            "text/plain": [
              "array([[1., 1., 1., 1., 1.],\n",
              "       [1., 1., 1., 1., 1.],\n",
              "       [1., 1., 1., 1., 1.]])"
            ]
          },
          "metadata": {
            "tags": []
          },
          "execution_count": 12
        }
      ]
    },
    {
      "cell_type": "code",
      "metadata": {
        "id": "Ys0DtfBENAQc",
        "colab": {
          "base_uri": "https://localhost:8080/"
        },
        "outputId": "08e72b44-d84a-4bf5-ef1f-8b7356acae12"
      },
      "source": [
        "# array filled with 3.14\n",
        "np.full((3,5), 3.14)"
      ],
      "execution_count": null,
      "outputs": [
        {
          "output_type": "execute_result",
          "data": {
            "text/plain": [
              "array([[3.14, 3.14, 3.14, 3.14, 3.14],\n",
              "       [3.14, 3.14, 3.14, 3.14, 3.14],\n",
              "       [3.14, 3.14, 3.14, 3.14, 3.14]])"
            ]
          },
          "metadata": {
            "tags": []
          },
          "execution_count": 13
        }
      ]
    },
    {
      "cell_type": "code",
      "metadata": {
        "id": "H5kxTqSxNAQc",
        "colab": {
          "base_uri": "https://localhost:8080/"
        },
        "outputId": "e1f3f15f-e292-4a52-9818-b76297dd8973"
      },
      "source": [
        "# array filled with a linear sequence. Starting at 0, ending at 20, stepping by 2\n",
        "np.arange(1,20,2)"
      ],
      "execution_count": null,
      "outputs": [
        {
          "output_type": "execute_result",
          "data": {
            "text/plain": [
              "array([ 1,  3,  5,  7,  9, 11, 13, 15, 17, 19])"
            ]
          },
          "metadata": {
            "tags": []
          },
          "execution_count": 14
        }
      ]
    },
    {
      "cell_type": "code",
      "metadata": {
        "id": "FHqfF4SHNAQe",
        "colab": {
          "base_uri": "https://localhost:8080/"
        },
        "outputId": "cf30314d-bc19-4d0b-ce16-cafd30cfa450"
      },
      "source": [
        "# array of five values evenly spaced between 1 and 10\n",
        "np.linspace(1,10,5)"
      ],
      "execution_count": null,
      "outputs": [
        {
          "output_type": "execute_result",
          "data": {
            "text/plain": [
              "array([ 1.  ,  3.25,  5.5 ,  7.75, 10.  ])"
            ]
          },
          "metadata": {
            "tags": []
          },
          "execution_count": 15
        }
      ]
    },
    {
      "cell_type": "code",
      "metadata": {
        "id": "QgAj3AEENAQf",
        "colab": {
          "base_uri": "https://localhost:8080/"
        },
        "outputId": "d89d5ddf-f524-4700-cb42-4734ec886901"
      },
      "source": [
        "# array of uniformly distributed random values between 0 and 1\n",
        "np.random.random((3,3))"
      ],
      "execution_count": null,
      "outputs": [
        {
          "output_type": "execute_result",
          "data": {
            "text/plain": [
              "array([[0.14453594, 0.9806762 , 0.88065445],\n",
              "       [0.40727705, 0.23546326, 0.41532005],\n",
              "       [0.78353334, 0.8846138 , 0.55713133]])"
            ]
          },
          "metadata": {
            "tags": []
          },
          "execution_count": 16
        }
      ]
    },
    {
      "cell_type": "code",
      "metadata": {
        "id": "eJkHATUFNAQg",
        "colab": {
          "base_uri": "https://localhost:8080/"
        },
        "outputId": "239282da-b54e-4fdb-e8be-5025187cd79c"
      },
      "source": [
        "# array of uniformly distributed random values between mean 0 and standard deviation 1\n",
        "np.random.normal(0,1,(3,3))"
      ],
      "execution_count": null,
      "outputs": [
        {
          "output_type": "execute_result",
          "data": {
            "text/plain": [
              "array([[-1.18512073,  0.33955271, -0.89650729],\n",
              "       [ 0.7147257 , -1.66217417, -0.26086993],\n",
              "       [-1.44824334,  1.4306985 , -0.35748974]])"
            ]
          },
          "metadata": {
            "tags": []
          },
          "execution_count": 17
        }
      ]
    },
    {
      "cell_type": "code",
      "metadata": {
        "id": "DntBtkQSNAQh",
        "colab": {
          "base_uri": "https://localhost:8080/"
        },
        "outputId": "8c0d398e-c9d6-4c8a-9061-84af3fc041e2"
      },
      "source": [
        "# array of random integers in the interval 0 and 10\n",
        "np.random.randint(0,10,(3,3))"
      ],
      "execution_count": null,
      "outputs": [
        {
          "output_type": "execute_result",
          "data": {
            "text/plain": [
              "array([[0, 3, 9],\n",
              "       [0, 7, 6],\n",
              "       [7, 2, 4]])"
            ]
          },
          "metadata": {
            "tags": []
          },
          "execution_count": 18
        }
      ]
    },
    {
      "cell_type": "code",
      "metadata": {
        "id": "fydKeRVvNAQh",
        "colab": {
          "base_uri": "https://localhost:8080/"
        },
        "outputId": "d1fa247b-1217-4eb7-cea8-d8abe05e8271"
      },
      "source": [
        "# identity matrix\n",
        "np.eye(3)"
      ],
      "execution_count": null,
      "outputs": [
        {
          "output_type": "execute_result",
          "data": {
            "text/plain": [
              "array([[1., 0., 0.],\n",
              "       [0., 1., 0.],\n",
              "       [0., 0., 1.]])"
            ]
          },
          "metadata": {
            "tags": []
          },
          "execution_count": 19
        }
      ]
    },
    {
      "cell_type": "code",
      "metadata": {
        "id": "jo6deypnNAQi",
        "colab": {
          "base_uri": "https://localhost:8080/"
        },
        "outputId": "fa823e2b-7290-4c03-eeb5-2272d91271a0"
      },
      "source": [
        "np.zeros(10, dtype='int16')"
      ],
      "execution_count": null,
      "outputs": [
        {
          "output_type": "execute_result",
          "data": {
            "text/plain": [
              "array([0, 0, 0, 0, 0, 0, 0, 0, 0, 0], dtype=int16)"
            ]
          },
          "metadata": {
            "tags": []
          },
          "execution_count": 20
        }
      ]
    },
    {
      "cell_type": "code",
      "metadata": {
        "id": "sK8NC3XpNAQj",
        "colab": {
          "base_uri": "https://localhost:8080/"
        },
        "outputId": "6dbe12e9-4def-49ef-b936-9e3f6b29a787"
      },
      "source": [
        "np.zeros(10, dtype=np.int16)"
      ],
      "execution_count": null,
      "outputs": [
        {
          "output_type": "execute_result",
          "data": {
            "text/plain": [
              "array([0, 0, 0, 0, 0, 0, 0, 0, 0, 0], dtype=int16)"
            ]
          },
          "metadata": {
            "tags": []
          },
          "execution_count": 21
        }
      ]
    },
    {
      "cell_type": "code",
      "metadata": {
        "id": "J6rKA3bkNAQj"
      },
      "source": [
        "# seed for reproductivity\n",
        "np.random.seed(0)"
      ],
      "execution_count": null,
      "outputs": []
    },
    {
      "cell_type": "code",
      "metadata": {
        "id": "jXxWLbQ0NAQk"
      },
      "source": [
        "# 1 Dimensional\n",
        "x1 = np.random.randint(10, size=6)\n",
        "# 2 Dimensional\n",
        "x2 = np.random.randint(10, size=(3,4))\n",
        "# 3 Dimensional\n",
        "x3 = np.random.randint(10, size=(3,4,5))"
      ],
      "execution_count": null,
      "outputs": []
    },
    {
      "cell_type": "code",
      "metadata": {
        "id": "IbB-jEzKNAQn",
        "colab": {
          "base_uri": "https://localhost:8080/"
        },
        "outputId": "664d660d-79a8-434e-f269-7f0c9519faf7"
      },
      "source": [
        "# 2 - Dimensional\n",
        "x2"
      ],
      "execution_count": null,
      "outputs": [
        {
          "output_type": "execute_result",
          "data": {
            "text/plain": [
              "array([[3, 5, 2, 4],\n",
              "       [7, 6, 8, 8],\n",
              "       [1, 6, 7, 7]])"
            ]
          },
          "metadata": {
            "tags": []
          },
          "execution_count": 24
        }
      ]
    },
    {
      "cell_type": "code",
      "metadata": {
        "id": "PDGoQucdNAQn",
        "colab": {
          "base_uri": "https://localhost:8080/"
        },
        "outputId": "d1ad6c87-9e34-4db8-c917-d4be0c115732"
      },
      "source": [
        "x2.ndim, x2.shape, x2.size, x2.dtype"
      ],
      "execution_count": null,
      "outputs": [
        {
          "output_type": "execute_result",
          "data": {
            "text/plain": [
              "(2, (3, 4), 12, dtype('int64'))"
            ]
          },
          "metadata": {
            "tags": []
          },
          "execution_count": 25
        }
      ]
    },
    {
      "cell_type": "code",
      "metadata": {
        "id": "J4Cq4kiENAQo",
        "colab": {
          "base_uri": "https://localhost:8080/"
        },
        "outputId": "1938fc5f-15d7-443a-adc9-b92f9dddf580"
      },
      "source": [
        "# 3 - Dimensional\n",
        "x3"
      ],
      "execution_count": null,
      "outputs": [
        {
          "output_type": "execute_result",
          "data": {
            "text/plain": [
              "array([[[8, 1, 5, 9, 8],\n",
              "        [9, 4, 3, 0, 3],\n",
              "        [5, 0, 2, 3, 8],\n",
              "        [1, 3, 3, 3, 7]],\n",
              "\n",
              "       [[0, 1, 9, 9, 0],\n",
              "        [4, 7, 3, 2, 7],\n",
              "        [2, 0, 0, 4, 5],\n",
              "        [5, 6, 8, 4, 1]],\n",
              "\n",
              "       [[4, 9, 8, 1, 1],\n",
              "        [7, 9, 9, 3, 6],\n",
              "        [7, 2, 0, 3, 5],\n",
              "        [9, 4, 4, 6, 4]]])"
            ]
          },
          "metadata": {
            "tags": []
          },
          "execution_count": 26
        }
      ]
    },
    {
      "cell_type": "code",
      "metadata": {
        "id": "jesJynnRNAQp",
        "colab": {
          "base_uri": "https://localhost:8080/"
        },
        "outputId": "c9d0c54f-8c65-4cbd-ff42-2b755de5e8a3"
      },
      "source": [
        "x3.ndim, x3.shape, x3.size, x3.dtype"
      ],
      "execution_count": null,
      "outputs": [
        {
          "output_type": "execute_result",
          "data": {
            "text/plain": [
              "(3, (3, 4, 5), 60, dtype('int64'))"
            ]
          },
          "metadata": {
            "tags": []
          },
          "execution_count": 27
        }
      ]
    },
    {
      "cell_type": "markdown",
      "metadata": {
        "id": "gY2JfzSvNAQq"
      },
      "source": [
        "## Array Indexing"
      ]
    },
    {
      "cell_type": "code",
      "metadata": {
        "id": "qq4DnYJQNAQq",
        "colab": {
          "base_uri": "https://localhost:8080/"
        },
        "outputId": "c1019a8d-5dbe-4bf4-aca7-5fe00657f064"
      },
      "source": [
        "x1"
      ],
      "execution_count": null,
      "outputs": [
        {
          "output_type": "execute_result",
          "data": {
            "text/plain": [
              "array([5, 0, 3, 3, 7, 9])"
            ]
          },
          "metadata": {
            "tags": []
          },
          "execution_count": 28
        }
      ]
    },
    {
      "cell_type": "code",
      "metadata": {
        "id": "nxvIVCl-NAQv",
        "colab": {
          "base_uri": "https://localhost:8080/"
        },
        "outputId": "156fc5c7-8c20-4bf4-f94a-5ce84dfcdfa2"
      },
      "source": [
        "x1[0],x1[-1]"
      ],
      "execution_count": null,
      "outputs": [
        {
          "output_type": "execute_result",
          "data": {
            "text/plain": [
              "(5, 9)"
            ]
          },
          "metadata": {
            "tags": []
          },
          "execution_count": 29
        }
      ]
    },
    {
      "cell_type": "code",
      "metadata": {
        "id": "872gUHVLNAQv",
        "colab": {
          "base_uri": "https://localhost:8080/"
        },
        "outputId": "1538c9ef-d34e-42ef-d1be-afdc3594551d"
      },
      "source": [
        "x2"
      ],
      "execution_count": null,
      "outputs": [
        {
          "output_type": "execute_result",
          "data": {
            "text/plain": [
              "array([[3, 5, 2, 4],\n",
              "       [7, 6, 8, 8],\n",
              "       [1, 6, 7, 7]])"
            ]
          },
          "metadata": {
            "tags": []
          },
          "execution_count": 30
        }
      ]
    },
    {
      "cell_type": "code",
      "metadata": {
        "id": "IgfO1uckNAQw",
        "colab": {
          "base_uri": "https://localhost:8080/"
        },
        "outputId": "0ddccf1e-9184-4e65-cdb3-7b1edf21dce3"
      },
      "source": [
        "# In a multidimensional array, you access items using a comma-separated tuple of indices\n",
        "x2[0,0], x2[1,2], x2[2,-2]"
      ],
      "execution_count": null,
      "outputs": [
        {
          "output_type": "execute_result",
          "data": {
            "text/plain": [
              "(3, 8, 7)"
            ]
          },
          "metadata": {
            "tags": []
          },
          "execution_count": 31
        }
      ]
    },
    {
      "cell_type": "code",
      "metadata": {
        "id": "yViLMESwNAQw",
        "colab": {
          "base_uri": "https://localhost:8080/"
        },
        "outputId": "1b0498b7-7f33-4ca8-df93-396746cbb9e4"
      },
      "source": [
        "# unlike Python lists, NumPy arrays have a fixed type. \n",
        "# This means, for example, that if you attempt to insert a floating-point value to an integer array, \n",
        "# the value will be silently truncated.\n",
        "x2[0,0]=3.11\n",
        "x2"
      ],
      "execution_count": null,
      "outputs": [
        {
          "output_type": "execute_result",
          "data": {
            "text/plain": [
              "array([[3, 5, 2, 4],\n",
              "       [7, 6, 8, 8],\n",
              "       [1, 6, 7, 7]])"
            ]
          },
          "metadata": {
            "tags": []
          },
          "execution_count": 32
        }
      ]
    },
    {
      "cell_type": "markdown",
      "metadata": {
        "id": "NyW_xE4KNAQx"
      },
      "source": [
        "## Array Slicing:  x[start:stop:step]\n",
        "#### If any of these are unspecified, they default to the values start=0, stop=size of dimension, step=1."
      ]
    },
    {
      "cell_type": "code",
      "metadata": {
        "id": "6S4zueguNAQz",
        "colab": {
          "base_uri": "https://localhost:8080/"
        },
        "outputId": "6bcbdc27-9214-4284-b9b8-1ee7fe2f0198"
      },
      "source": [
        "x4 = np.arange(10)\n",
        "x4"
      ],
      "execution_count": null,
      "outputs": [
        {
          "output_type": "execute_result",
          "data": {
            "text/plain": [
              "array([0, 1, 2, 3, 4, 5, 6, 7, 8, 9])"
            ]
          },
          "metadata": {
            "tags": []
          },
          "execution_count": 33
        }
      ]
    },
    {
      "cell_type": "code",
      "metadata": {
        "id": "iCB3djZ9NAQ1",
        "colab": {
          "base_uri": "https://localhost:8080/"
        },
        "outputId": "27573560-fa6d-4778-f4d6-9538bdcd14b7"
      },
      "source": [
        "x4[:3], x4[3:], x4[:3:]"
      ],
      "execution_count": null,
      "outputs": [
        {
          "output_type": "execute_result",
          "data": {
            "text/plain": [
              "(array([0, 1, 2]), array([3, 4, 5, 6, 7, 8, 9]), array([0, 1, 2]))"
            ]
          },
          "metadata": {
            "tags": []
          },
          "execution_count": 34
        }
      ]
    },
    {
      "cell_type": "code",
      "metadata": {
        "id": "D4Bh25M6NAQ3",
        "colab": {
          "base_uri": "https://localhost:8080/"
        },
        "outputId": "4da9d811-8fc7-47e2-bd3e-3617ac5b7c2e"
      },
      "source": [
        "x4[2:5], x4[:5:2], x4[0::2] "
      ],
      "execution_count": null,
      "outputs": [
        {
          "output_type": "execute_result",
          "data": {
            "text/plain": [
              "(array([2, 3, 4]), array([0, 2, 4]), array([0, 2, 4, 6, 8]))"
            ]
          },
          "metadata": {
            "tags": []
          },
          "execution_count": 35
        }
      ]
    },
    {
      "cell_type": "code",
      "metadata": {
        "id": "NVkG96LONAQ3",
        "colab": {
          "base_uri": "https://localhost:8080/"
        },
        "outputId": "f078c679-047d-40e8-df6c-072bff8fecaf"
      },
      "source": [
        "# Start and stopped are swapped with negative step value\n",
        "x4[:5:-1], x4[5::-1]"
      ],
      "execution_count": null,
      "outputs": [
        {
          "output_type": "execute_result",
          "data": {
            "text/plain": [
              "(array([9, 8, 7, 6]), array([5, 4, 3, 2, 1, 0]))"
            ]
          },
          "metadata": {
            "tags": []
          },
          "execution_count": 36
        }
      ]
    },
    {
      "cell_type": "code",
      "metadata": {
        "id": "CC18kTdaNAQ4",
        "colab": {
          "base_uri": "https://localhost:8080/"
        },
        "outputId": "75bda1ae-ae51-4041-a4f6-9fe55994c237"
      },
      "source": [
        "x2"
      ],
      "execution_count": null,
      "outputs": [
        {
          "output_type": "execute_result",
          "data": {
            "text/plain": [
              "array([[3, 5, 2, 4],\n",
              "       [7, 6, 8, 8],\n",
              "       [1, 6, 7, 7]])"
            ]
          },
          "metadata": {
            "tags": []
          },
          "execution_count": 37
        }
      ]
    },
    {
      "cell_type": "code",
      "metadata": {
        "id": "Sr05MNRkNAQ4",
        "colab": {
          "base_uri": "https://localhost:8080/"
        },
        "outputId": "63652d11-1c1d-4ae8-cf25-14ee302f176c"
      },
      "source": [
        "# For indexing Two Dimenional Arrays, we need 2 indexes separated by comma. First for ROWS, second for COLUMNS. \n",
        "# two rows, three columns\n",
        "x2[:2,:3]"
      ],
      "execution_count": null,
      "outputs": [
        {
          "output_type": "execute_result",
          "data": {
            "text/plain": [
              "array([[3, 5, 2],\n",
              "       [7, 6, 8]])"
            ]
          },
          "metadata": {
            "tags": []
          },
          "execution_count": 38
        }
      ]
    },
    {
      "cell_type": "code",
      "metadata": {
        "id": "sGiDl7lgNAQ5",
        "colab": {
          "base_uri": "https://localhost:8080/"
        },
        "outputId": "e2c77081-327e-4d53-ea02-8f652d21d6c2"
      },
      "source": [
        "# all rows, every other column\n",
        "x2[:3,::2]"
      ],
      "execution_count": null,
      "outputs": [
        {
          "output_type": "execute_result",
          "data": {
            "text/plain": [
              "array([[3, 2],\n",
              "       [7, 8],\n",
              "       [1, 7]])"
            ]
          },
          "metadata": {
            "tags": []
          },
          "execution_count": 39
        }
      ]
    },
    {
      "cell_type": "code",
      "metadata": {
        "id": "OvLGtyPWNAQ6",
        "colab": {
          "base_uri": "https://localhost:8080/"
        },
        "outputId": "b47af283-f996-49ae-da4c-44a6ede20fd9"
      },
      "source": [
        "# subarray dimensions can even be reversed together:\n",
        "x2[::-1,::-1]"
      ],
      "execution_count": null,
      "outputs": [
        {
          "output_type": "execute_result",
          "data": {
            "text/plain": [
              "array([[7, 7, 6, 1],\n",
              "       [8, 8, 6, 7],\n",
              "       [4, 2, 5, 3]])"
            ]
          },
          "metadata": {
            "tags": []
          },
          "execution_count": 40
        }
      ]
    },
    {
      "cell_type": "code",
      "metadata": {
        "id": "Am5Q-E6SNAQ6",
        "colab": {
          "base_uri": "https://localhost:8080/"
        },
        "outputId": "831232d7-0e55-472a-b4b2-515e046c2cff"
      },
      "source": [
        "# First Column\n",
        "x2[:,0]"
      ],
      "execution_count": null,
      "outputs": [
        {
          "output_type": "execute_result",
          "data": {
            "text/plain": [
              "array([3, 7, 1])"
            ]
          },
          "metadata": {
            "tags": []
          },
          "execution_count": 41
        }
      ]
    },
    {
      "cell_type": "code",
      "metadata": {
        "id": "KKx9TLsJNAQ7",
        "colab": {
          "base_uri": "https://localhost:8080/"
        },
        "outputId": "a4bbf553-fa2a-4ec1-eb81-d4dcc999401d"
      },
      "source": [
        "# First Row. Comma & Colon can be omitted.\n",
        "x2[0,:], x2[0]"
      ],
      "execution_count": null,
      "outputs": [
        {
          "output_type": "execute_result",
          "data": {
            "text/plain": [
              "(array([3, 5, 2, 4]), array([3, 5, 2, 4]))"
            ]
          },
          "metadata": {
            "tags": []
          },
          "execution_count": 42
        }
      ]
    },
    {
      "cell_type": "code",
      "metadata": {
        "id": "ci_OT36gNAQ8",
        "colab": {
          "base_uri": "https://localhost:8080/"
        },
        "outputId": "ade338b2-79af-473d-de9c-3cdc62408e99"
      },
      "source": [
        "# Numpy array slices are views rather than copies of original data. Change in a slice is inherited by the array. e.g.:\n",
        "x2[:2,:2]"
      ],
      "execution_count": null,
      "outputs": [
        {
          "output_type": "execute_result",
          "data": {
            "text/plain": [
              "array([[3, 5],\n",
              "       [7, 6]])"
            ]
          },
          "metadata": {
            "tags": []
          },
          "execution_count": 43
        }
      ]
    },
    {
      "cell_type": "code",
      "metadata": {
        "id": "XG1xtOCjNAQ8",
        "colab": {
          "base_uri": "https://localhost:8080/"
        },
        "outputId": "324ccd51-54d4-425a-c47d-d0d7f62c2692"
      },
      "source": [
        "x2b = x2[:2,:2]\n",
        "x2b[0,0] = 99\n",
        "x2"
      ],
      "execution_count": null,
      "outputs": [
        {
          "output_type": "execute_result",
          "data": {
            "text/plain": [
              "array([[99,  5,  2,  4],\n",
              "       [ 7,  6,  8,  8],\n",
              "       [ 1,  6,  7,  7]])"
            ]
          },
          "metadata": {
            "tags": []
          },
          "execution_count": 44
        }
      ]
    },
    {
      "cell_type": "code",
      "metadata": {
        "id": "o6-begR4NAQ9",
        "colab": {
          "base_uri": "https://localhost:8080/"
        },
        "outputId": "6a35c2f6-d9ca-4107-95c9-12dbe6f94398"
      },
      "source": [
        "x2b_copy = x2b.copy()\n",
        "x2b_copy[0,0] = 999\n",
        "x2b_copy"
      ],
      "execution_count": null,
      "outputs": [
        {
          "output_type": "execute_result",
          "data": {
            "text/plain": [
              "array([[999,   5],\n",
              "       [  7,   6]])"
            ]
          },
          "metadata": {
            "tags": []
          },
          "execution_count": 45
        }
      ]
    },
    {
      "cell_type": "code",
      "metadata": {
        "id": "ZWQQhGYNNAQ_",
        "colab": {
          "base_uri": "https://localhost:8080/",
          "height": 164
        },
        "outputId": "08bd8971-ec81-4ba5-a40d-aee3e8f7ffe9"
      },
      "source": [
        "x2b"
      ],
      "execution_count": null,
      "outputs": [
        {
          "output_type": "error",
          "ename": "NameError",
          "evalue": "ignored",
          "traceback": [
            "\u001b[0;31m---------------------------------------------------------------------------\u001b[0m",
            "\u001b[0;31mNameError\u001b[0m                                 Traceback (most recent call last)",
            "\u001b[0;32m<ipython-input-47-202def26551e>\u001b[0m in \u001b[0;36m<module>\u001b[0;34m()\u001b[0m\n\u001b[0;32m----> 1\u001b[0;31m \u001b[0mx2_b\u001b[0m\u001b[0;34m\u001b[0m\u001b[0;34m\u001b[0m\u001b[0m\n\u001b[0m",
            "\u001b[0;31mNameError\u001b[0m: name 'x2_b' is not defined"
          ]
        }
      ]
    },
    {
      "cell_type": "markdown",
      "metadata": {
        "id": "7gINI0GLNAQ_"
      },
      "source": [
        "## Reshaping of Arrays"
      ]
    },
    {
      "cell_type": "code",
      "metadata": {
        "id": "_YPUFbh2NARA",
        "colab": {
          "base_uri": "https://localhost:8080/"
        },
        "outputId": "f7b1bea1-dcf2-401c-f5b9-85ef535d02fb"
      },
      "source": [
        "x5 = np.arange(1,10)\n",
        "x5"
      ],
      "execution_count": null,
      "outputs": [
        {
          "output_type": "execute_result",
          "data": {
            "text/plain": [
              "array([1, 2, 3, 4, 5, 6, 7, 8, 9])"
            ]
          },
          "metadata": {
            "tags": []
          },
          "execution_count": 48
        }
      ]
    },
    {
      "cell_type": "code",
      "metadata": {
        "id": "Edva_e9uNARA",
        "colab": {
          "base_uri": "https://localhost:8080/"
        },
        "outputId": "e6ab850b-d4c0-43b3-edae-b1109faee095"
      },
      "source": [
        "# size of the initial array must match the size of the reshaped array.\n",
        "grid1 = x5.reshape((3,3))\n",
        "grid1"
      ],
      "execution_count": null,
      "outputs": [
        {
          "output_type": "execute_result",
          "data": {
            "text/plain": [
              "array([[1, 2, 3],\n",
              "       [4, 5, 6],\n",
              "       [7, 8, 9]])"
            ]
          },
          "metadata": {
            "tags": []
          },
          "execution_count": 49
        }
      ]
    },
    {
      "cell_type": "code",
      "metadata": {
        "id": "BbfanSFUNARB",
        "colab": {
          "base_uri": "https://localhost:8080/"
        },
        "outputId": "cc18cab0-7c4a-4ed1-ff9f-05a357a10d40"
      },
      "source": [
        "x6 = np.array([1,2,3])\n",
        "# column vector via reshape\n",
        "x6.reshape((3,1))"
      ],
      "execution_count": null,
      "outputs": [
        {
          "output_type": "execute_result",
          "data": {
            "text/plain": [
              "array([[1],\n",
              "       [2],\n",
              "       [3]])"
            ]
          },
          "metadata": {
            "tags": []
          },
          "execution_count": 50
        }
      ]
    },
    {
      "cell_type": "code",
      "metadata": {
        "id": "w0LshNbmNARB",
        "colab": {
          "base_uri": "https://localhost:8080/"
        },
        "outputId": "d27c6b7d-0da4-428d-e352-1913b04fc149"
      },
      "source": [
        "# column vector via newaxis\n",
        "x6[:,np.newaxis]"
      ],
      "execution_count": null,
      "outputs": [
        {
          "output_type": "execute_result",
          "data": {
            "text/plain": [
              "array([[1],\n",
              "       [2],\n",
              "       [3]])"
            ]
          },
          "metadata": {
            "tags": []
          },
          "execution_count": 51
        }
      ]
    },
    {
      "cell_type": "markdown",
      "metadata": {
        "id": "nxgr28CZNARB"
      },
      "source": [
        "## Array Concatenation and Splitting"
      ]
    },
    {
      "cell_type": "code",
      "metadata": {
        "id": "i6Ih-htmNARC",
        "colab": {
          "base_uri": "https://localhost:8080/"
        },
        "outputId": "ccc399fb-9971-439c-8a73-91cabd537ded"
      },
      "source": [
        "x7 = np.array([1,2,3])\n",
        "x8 = np.array([4,5,6])\n",
        "x9 = [99,100,101]\n",
        "np.concatenate([x7,x8,x9])"
      ],
      "execution_count": null,
      "outputs": [
        {
          "output_type": "execute_result",
          "data": {
            "text/plain": [
              "array([  1,   2,   3,   4,   5,   6,  99, 100, 101])"
            ]
          },
          "metadata": {
            "tags": []
          },
          "execution_count": 52
        }
      ]
    },
    {
      "cell_type": "code",
      "metadata": {
        "id": "8_uo3pyYNARC"
      },
      "source": [
        "grid2 = np.array([[1,2,3],[4,5,6]])"
      ],
      "execution_count": null,
      "outputs": []
    },
    {
      "cell_type": "code",
      "metadata": {
        "id": "jZBBCLN5NARD",
        "colab": {
          "base_uri": "https://localhost:8080/"
        },
        "outputId": "90485f22-148f-46f5-bf48-085879496975"
      },
      "source": [
        "# concatenate along the first axis\n",
        "np.concatenate([grid2,grid2])"
      ],
      "execution_count": null,
      "outputs": [
        {
          "output_type": "execute_result",
          "data": {
            "text/plain": [
              "array([[1, 2, 3],\n",
              "       [4, 5, 6],\n",
              "       [1, 2, 3],\n",
              "       [4, 5, 6]])"
            ]
          },
          "metadata": {
            "tags": []
          },
          "execution_count": 54
        }
      ]
    },
    {
      "cell_type": "code",
      "metadata": {
        "id": "-SomDeXlNARE",
        "colab": {
          "base_uri": "https://localhost:8080/"
        },
        "outputId": "daf7b778-906d-4012-abc9-736ec47ca593"
      },
      "source": [
        "# concatenate along the second axis (zero-indexed)\n",
        "np.concatenate([grid2,grid2], axis=1)"
      ],
      "execution_count": null,
      "outputs": [
        {
          "output_type": "execute_result",
          "data": {
            "text/plain": [
              "array([[1, 2, 3, 1, 2, 3],\n",
              "       [4, 5, 6, 4, 5, 6]])"
            ]
          },
          "metadata": {
            "tags": []
          },
          "execution_count": 55
        }
      ]
    },
    {
      "cell_type": "code",
      "metadata": {
        "id": "XBH_ECWYNARG",
        "colab": {
          "base_uri": "https://localhost:8080/"
        },
        "outputId": "d8b030c2-cc98-4cb8-a882-5b038dd7fbba"
      },
      "source": [
        "# vertically stack the arrays of mixed dimension\n",
        "np.vstack([x9,grid2])"
      ],
      "execution_count": null,
      "outputs": [
        {
          "output_type": "execute_result",
          "data": {
            "text/plain": [
              "array([[ 99, 100, 101],\n",
              "       [  1,   2,   3],\n",
              "       [  4,   5,   6]])"
            ]
          },
          "metadata": {
            "tags": []
          },
          "execution_count": 56
        }
      ]
    },
    {
      "cell_type": "code",
      "metadata": {
        "id": "2H9yf3R5NARI",
        "colab": {
          "base_uri": "https://localhost:8080/"
        },
        "outputId": "20364e0b-6b06-4d54-ff02-1104c6a6a63b"
      },
      "source": [
        "# horizontally stack the arrays of mixed dimension\n",
        "x10 = np.array([[22],[44]])\n",
        "np.hstack([x10,grid2])"
      ],
      "execution_count": null,
      "outputs": [
        {
          "output_type": "execute_result",
          "data": {
            "text/plain": [
              "array([[22,  1,  2,  3],\n",
              "       [44,  4,  5,  6]])"
            ]
          },
          "metadata": {
            "tags": []
          },
          "execution_count": 57
        }
      ]
    },
    {
      "cell_type": "code",
      "metadata": {
        "id": "3B7G09WpNARJ",
        "colab": {
          "base_uri": "https://localhost:8080/"
        },
        "outputId": "1e3173ee-4ca1-47ac-9b12-26230735f5e3"
      },
      "source": [
        "x11 = [1,2,3,44,55,6,7,8]\n",
        "x12, x13, x14 = np.split(x11, [3,4])\n",
        "print (x12, x13, x14)"
      ],
      "execution_count": null,
      "outputs": [
        {
          "output_type": "stream",
          "text": [
            "[1 2 3] [44] [55  6  7  8]\n"
          ],
          "name": "stdout"
        }
      ]
    },
    {
      "cell_type": "code",
      "metadata": {
        "id": "TN8yJaEKNARK",
        "colab": {
          "base_uri": "https://localhost:8080/"
        },
        "outputId": "44f9d15e-4b98-4c35-f5cf-112fe52b0fc3"
      },
      "source": [
        "grid3 = np.arange(0,16).reshape(4,4) \n",
        "grid3"
      ],
      "execution_count": null,
      "outputs": [
        {
          "output_type": "execute_result",
          "data": {
            "text/plain": [
              "array([[ 0,  1,  2,  3],\n",
              "       [ 4,  5,  6,  7],\n",
              "       [ 8,  9, 10, 11],\n",
              "       [12, 13, 14, 15]])"
            ]
          },
          "metadata": {
            "tags": []
          },
          "execution_count": 59
        }
      ]
    },
    {
      "cell_type": "code",
      "metadata": {
        "id": "lbIFPSgTNARL",
        "colab": {
          "base_uri": "https://localhost:8080/"
        },
        "outputId": "6b759818-ba7d-4581-e5e4-60a4a1ad12a4"
      },
      "source": [
        "np.vsplit(grid3, [2])"
      ],
      "execution_count": null,
      "outputs": [
        {
          "output_type": "execute_result",
          "data": {
            "text/plain": [
              "[array([[0, 1, 2, 3],\n",
              "        [4, 5, 6, 7]]), array([[ 8,  9, 10, 11],\n",
              "        [12, 13, 14, 15]])]"
            ]
          },
          "metadata": {
            "tags": []
          },
          "execution_count": 60
        }
      ]
    },
    {
      "cell_type": "code",
      "metadata": {
        "id": "mRW-X3I-NARP",
        "colab": {
          "base_uri": "https://localhost:8080/"
        },
        "outputId": "abc6d184-1153-4908-f546-7dbd27338b9f"
      },
      "source": [
        "np.hsplit(grid3, [2])"
      ],
      "execution_count": null,
      "outputs": [
        {
          "output_type": "execute_result",
          "data": {
            "text/plain": [
              "[array([[ 0,  1],\n",
              "        [ 4,  5],\n",
              "        [ 8,  9],\n",
              "        [12, 13]]), array([[ 2,  3],\n",
              "        [ 6,  7],\n",
              "        [10, 11],\n",
              "        [14, 15]])]"
            ]
          },
          "metadata": {
            "tags": []
          },
          "execution_count": 61
        }
      ]
    },
    {
      "cell_type": "markdown",
      "metadata": {
        "id": "Ju7QzBkCNARQ"
      },
      "source": [
        "## Universal Functions"
      ]
    },
    {
      "cell_type": "code",
      "metadata": {
        "id": "7OKniZhgNARR",
        "colab": {
          "base_uri": "https://localhost:8080/"
        },
        "outputId": "80df5f03-3bef-409d-fa30-95ce75408f3f"
      },
      "source": [
        "x10 = np.arange(4)\n",
        "x10 , x10 + 2 , x10 * 2, x10 / 2 , x10 // 2 , -x10 , x10**2 , x10 % 2"
      ],
      "execution_count": null,
      "outputs": [
        {
          "output_type": "execute_result",
          "data": {
            "text/plain": [
              "(array([0, 1, 2, 3]),\n",
              " array([2, 3, 4, 5]),\n",
              " array([0, 2, 4, 6]),\n",
              " array([0. , 0.5, 1. , 1.5]),\n",
              " array([0, 0, 1, 1]),\n",
              " array([ 0, -1, -2, -3]),\n",
              " array([0, 1, 4, 9]),\n",
              " array([0, 1, 0, 1]))"
            ]
          },
          "metadata": {
            "tags": []
          },
          "execution_count": 62
        }
      ]
    },
    {
      "cell_type": "code",
      "metadata": {
        "id": "gLlRLfVjNART",
        "colab": {
          "base_uri": "https://localhost:8080/"
        },
        "outputId": "dabefe18-a42b-428a-ff2c-bde03d24c325"
      },
      "source": [
        "x11 = -(2 * x10 + 1) **2\n",
        "x11 , abs(x11)"
      ],
      "execution_count": null,
      "outputs": [
        {
          "output_type": "execute_result",
          "data": {
            "text/plain": [
              "(array([ -1,  -9, -25, -49]), array([ 1,  9, 25, 49]))"
            ]
          },
          "metadata": {
            "tags": []
          },
          "execution_count": 63
        }
      ]
    },
    {
      "cell_type": "code",
      "metadata": {
        "id": "OVlf7UlhNARY",
        "colab": {
          "base_uri": "https://localhost:8080/"
        },
        "outputId": "269fc269-06db-4a56-9565-23a44739ea32"
      },
      "source": [
        "x12 = np.linspace(0, np.pi, 3)\n",
        "x12 , np.sin(x12) , np.cos(x12) , np.tan(x12)"
      ],
      "execution_count": null,
      "outputs": [
        {
          "output_type": "execute_result",
          "data": {
            "text/plain": [
              "(array([0.        , 1.57079633, 3.14159265]),\n",
              " array([0.0000000e+00, 1.0000000e+00, 1.2246468e-16]),\n",
              " array([ 1.000000e+00,  6.123234e-17, -1.000000e+00]),\n",
              " array([ 0.00000000e+00,  1.63312394e+16, -1.22464680e-16]))"
            ]
          },
          "metadata": {
            "tags": []
          },
          "execution_count": 64
        }
      ]
    },
    {
      "cell_type": "code",
      "metadata": {
        "id": "2WSD3s_YNARZ",
        "colab": {
          "base_uri": "https://localhost:8080/"
        },
        "outputId": "4ac9b6de-7343-4feb-b96f-6ee39c62029f"
      },
      "source": [
        "x13 = [1, 0 , -1]\n",
        "x13, np.arcsin(x13) , np.arccos(x13) , np.arctan(x13)"
      ],
      "execution_count": null,
      "outputs": [
        {
          "output_type": "execute_result",
          "data": {
            "text/plain": [
              "([1, 0, -1],\n",
              " array([ 1.57079633,  0.        , -1.57079633]),\n",
              " array([0.        , 1.57079633, 3.14159265]),\n",
              " array([ 0.78539816,  0.        , -0.78539816]))"
            ]
          },
          "metadata": {
            "tags": []
          },
          "execution_count": 65
        }
      ]
    },
    {
      "cell_type": "code",
      "metadata": {
        "id": "yskFNPeKNARa",
        "colab": {
          "base_uri": "https://localhost:8080/"
        },
        "outputId": "ae1dd156-3401-410a-9a7e-61171057f4e6"
      },
      "source": [
        "x14 = [1, 2, 3]\n",
        "np.exp(x14), np.exp2(x14), np.power(2, x14)"
      ],
      "execution_count": null,
      "outputs": [
        {
          "output_type": "execute_result",
          "data": {
            "text/plain": [
              "(array([ 2.71828183,  7.3890561 , 20.08553692]),\n",
              " array([2., 4., 8.]),\n",
              " array([2, 4, 8]))"
            ]
          },
          "metadata": {
            "tags": []
          },
          "execution_count": 66
        }
      ]
    },
    {
      "cell_type": "code",
      "metadata": {
        "id": "rfo2dIFiNARb",
        "colab": {
          "base_uri": "https://localhost:8080/"
        },
        "outputId": "338f8b2c-1846-43ad-df6b-8f72787d25f6"
      },
      "source": [
        "x15 = [1, 2, 4, 10]\n",
        "np.log(x15), np.log2(x15), np.log10(x15)"
      ],
      "execution_count": null,
      "outputs": [
        {
          "output_type": "execute_result",
          "data": {
            "text/plain": [
              "(array([0.        , 0.69314718, 1.38629436, 2.30258509]),\n",
              " array([0.        , 1.        , 2.        , 3.32192809]),\n",
              " array([0.        , 0.30103   , 0.60205999, 1.        ]))"
            ]
          },
          "metadata": {
            "tags": []
          },
          "execution_count": 67
        }
      ]
    },
    {
      "cell_type": "code",
      "metadata": {
        "id": "eUj93SSHNARb",
        "colab": {
          "base_uri": "https://localhost:8080/"
        },
        "outputId": "700abd4a-d3d8-4184-ccd3-a8d735798801"
      },
      "source": [
        "# calling reduce on ufunc returns the sum and multiplication of all elements in the array\n",
        "np.add.reduce(x15), np.multiply.reduce(x15) "
      ],
      "execution_count": null,
      "outputs": [
        {
          "output_type": "execute_result",
          "data": {
            "text/plain": [
              "(17, 80)"
            ]
          },
          "metadata": {
            "tags": []
          },
          "execution_count": 70
        }
      ]
    },
    {
      "cell_type": "code",
      "metadata": {
        "id": "yXIbEEi_NARc",
        "colab": {
          "base_uri": "https://localhost:8080/"
        },
        "outputId": "579f36ec-81e2-4eae-abb5-0355d922ca3f"
      },
      "source": [
        "# calling acumulate on ufunc returns the intermediate results of computation\n",
        "np.add.accumulate(x15), np.multiply.accumulate(x15)"
      ],
      "execution_count": null,
      "outputs": [
        {
          "output_type": "execute_result",
          "data": {
            "text/plain": [
              "(array([ 1,  3,  7, 17]), array([ 1,  2,  8, 80]))"
            ]
          },
          "metadata": {
            "tags": []
          },
          "execution_count": 71
        }
      ]
    },
    {
      "cell_type": "code",
      "metadata": {
        "id": "T5_zsEnHNARd",
        "colab": {
          "base_uri": "https://localhost:8080/"
        },
        "outputId": "92bf4bcd-e4c3-4ae3-c722-d919be8e0125"
      },
      "source": [
        "# multiplicaton table\n",
        "np.add.outer(x15, x15)"
      ],
      "execution_count": null,
      "outputs": [
        {
          "output_type": "execute_result",
          "data": {
            "text/plain": [
              "array([[ 2,  3,  5, 11],\n",
              "       [ 3,  4,  6, 12],\n",
              "       [ 5,  6,  8, 14],\n",
              "       [11, 12, 14, 20]])"
            ]
          },
          "metadata": {
            "tags": []
          },
          "execution_count": 72
        }
      ]
    },
    {
      "cell_type": "code",
      "metadata": {
        "id": "inY1RxaVNARe",
        "colab": {
          "base_uri": "https://localhost:8080/"
        },
        "outputId": "3772186e-82cf-4b54-97b9-74d52a7d5241"
      },
      "source": [
        "# 1-D array is straightforward , let see 2-d array\n",
        "x16 = np.random.random((2,3))\n",
        "x16"
      ],
      "execution_count": null,
      "outputs": [
        {
          "output_type": "execute_result",
          "data": {
            "text/plain": [
              "array([[0.65279032, 0.63505887, 0.99529957],\n",
              "       [0.58185033, 0.41436859, 0.4746975 ]])"
            ]
          },
          "metadata": {
            "tags": []
          },
          "execution_count": 73
        }
      ]
    },
    {
      "cell_type": "code",
      "metadata": {
        "id": "iQSRm3X_NARf",
        "colab": {
          "base_uri": "https://localhost:8080/"
        },
        "outputId": "263ba79e-5dc3-49c5-d9b6-8462ad0aba1d"
      },
      "source": [
        "np.sum(x16), np.min(x16), np.max(x16)"
      ],
      "execution_count": null,
      "outputs": [
        {
          "output_type": "execute_result",
          "data": {
            "text/plain": [
              "(3.7540651782402583, 0.4143685882263688, 0.9952995676778876)"
            ]
          },
          "metadata": {
            "tags": []
          },
          "execution_count": 74
        }
      ]
    },
    {
      "cell_type": "code",
      "metadata": {
        "id": "rJmeF8FBNARg",
        "colab": {
          "base_uri": "https://localhost:8080/"
        },
        "outputId": "c6b021a4-5f42-4d67-9598-670978b852d6"
      },
      "source": [
        "# min value along each column\n",
        "np.min(x16, axis=0)"
      ],
      "execution_count": null,
      "outputs": [
        {
          "output_type": "execute_result",
          "data": {
            "text/plain": [
              "array([0.58185033, 0.41436859, 0.4746975 ])"
            ]
          },
          "metadata": {
            "tags": []
          },
          "execution_count": 75
        }
      ]
    },
    {
      "cell_type": "code",
      "metadata": {
        "id": "Xgn1WKcLNARg",
        "colab": {
          "base_uri": "https://localhost:8080/"
        },
        "outputId": "1503f23f-b165-4d0a-b63d-6d3e415a9022"
      },
      "source": [
        "# min value along each row\n",
        "np.min(x16, axis=1)"
      ],
      "execution_count": null,
      "outputs": [
        {
          "output_type": "execute_result",
          "data": {
            "text/plain": [
              "array([0.63505887, 0.41436859])"
            ]
          },
          "metadata": {
            "tags": []
          },
          "execution_count": 76
        }
      ]
    },
    {
      "cell_type": "code",
      "metadata": {
        "id": "royVyrSLNARh",
        "colab": {
          "base_uri": "https://localhost:8080/"
        },
        "outputId": "b4a519c7-1d35-4233-88f8-db619c8f7f8e"
      },
      "source": [
        "# Some important functios\n",
        "np.mean, np.std, np.percentile, np.median"
      ],
      "execution_count": null,
      "outputs": [
        {
          "output_type": "execute_result",
          "data": {
            "text/plain": [
              "(<function numpy.mean>,\n",
              " <function numpy.std>,\n",
              " <function numpy.percentile>,\n",
              " <function numpy.median>)"
            ]
          },
          "metadata": {
            "tags": []
          },
          "execution_count": 77
        }
      ]
    },
    {
      "cell_type": "markdown",
      "metadata": {
        "id": "JNx2x2f4NARh"
      },
      "source": [
        "## Broadcasting"
      ]
    },
    {
      "cell_type": "code",
      "metadata": {
        "id": "DgTOsbGINARh",
        "colab": {
          "base_uri": "https://localhost:8080/"
        },
        "outputId": "f3e335e7-f5d2-4e6d-e109-6102bd84d4a9"
      },
      "source": [
        "#Recall that for arrays of the same size, binary operations are performed on an element-by-element basis.\n",
        "#Broadcasting allows these types of binary operations to be performed on arrays of different sizes\n",
        "\n",
        "x17 = np.array([3,3,3,3,3])\n",
        "x17 + 1"
      ],
      "execution_count": null,
      "outputs": [
        {
          "output_type": "execute_result",
          "data": {
            "text/plain": [
              "array([4, 4, 4, 4, 4])"
            ]
          },
          "metadata": {
            "tags": []
          },
          "execution_count": 78
        }
      ]
    },
    {
      "cell_type": "code",
      "metadata": {
        "id": "Dkh1ewg0NARi",
        "colab": {
          "base_uri": "https://localhost:8080/"
        },
        "outputId": "e2dcd367-cbcc-482a-fb7f-d53ebe766cfc"
      },
      "source": [
        "x18 = np.ones((3,3))\n",
        "x18 + 1\n",
        "#Here 1-D array is stretched, or broadcast, across the second dimension in order to match the shape of x18."
      ],
      "execution_count": null,
      "outputs": [
        {
          "output_type": "execute_result",
          "data": {
            "text/plain": [
              "array([[2., 2., 2.],\n",
              "       [2., 2., 2.],\n",
              "       [2., 2., 2.]])"
            ]
          },
          "metadata": {
            "tags": []
          },
          "execution_count": 79
        }
      ]
    },
    {
      "cell_type": "code",
      "metadata": {
        "id": "27y-6Pg9NARi",
        "colab": {
          "base_uri": "https://localhost:8080/"
        },
        "outputId": "7e7c46dd-4d60-412d-8b8b-a7eae8ceb200"
      },
      "source": [
        "x19 = np.arange(3)\n",
        "x20 = np.arange(3)[:,np.newaxis]\n",
        "x19, x20"
      ],
      "execution_count": null,
      "outputs": [
        {
          "output_type": "execute_result",
          "data": {
            "text/plain": [
              "(array([0, 1, 2]), array([[0],\n",
              "        [1],\n",
              "        [2]]))"
            ]
          },
          "metadata": {
            "tags": []
          },
          "execution_count": 80
        }
      ]
    },
    {
      "cell_type": "code",
      "metadata": {
        "id": "BGMbCZCuNARj",
        "colab": {
          "base_uri": "https://localhost:8080/"
        },
        "outputId": "fb1b9ada-c8dc-4b2a-f5bc-1cb7d49cd129"
      },
      "source": [
        "x18.shape, x19.shape, x20.shape"
      ],
      "execution_count": null,
      "outputs": [
        {
          "output_type": "execute_result",
          "data": {
            "text/plain": [
              "((3, 3), (3,), (3, 1))"
            ]
          },
          "metadata": {
            "tags": []
          },
          "execution_count": 81
        }
      ]
    },
    {
      "cell_type": "code",
      "metadata": {
        "id": "1fULYHe2NARj",
        "colab": {
          "base_uri": "https://localhost:8080/"
        },
        "outputId": "9f4f1332-02b4-4744-d2cc-99dd9fa72512"
      },
      "source": [
        "x19 + x20"
      ],
      "execution_count": null,
      "outputs": [
        {
          "output_type": "execute_result",
          "data": {
            "text/plain": [
              "array([[0, 1, 2],\n",
              "       [1, 2, 3],\n",
              "       [2, 3, 4]])"
            ]
          },
          "metadata": {
            "tags": []
          },
          "execution_count": 82
        }
      ]
    },
    {
      "cell_type": "code",
      "metadata": {
        "id": "auGkIPfNNARk",
        "colab": {
          "base_uri": "https://localhost:8080/"
        },
        "outputId": "49fa1b8c-3e15-476a-c44c-0c4cf33db57c"
      },
      "source": [
        "x18 + x19"
      ],
      "execution_count": null,
      "outputs": [
        {
          "output_type": "execute_result",
          "data": {
            "text/plain": [
              "array([[1., 2., 3.],\n",
              "       [1., 2., 3.],\n",
              "       [1., 2., 3.]])"
            ]
          },
          "metadata": {
            "tags": []
          },
          "execution_count": 83
        }
      ]
    },
    {
      "cell_type": "code",
      "metadata": {
        "id": "FkPDavLGNARm",
        "colab": {
          "base_uri": "https://localhost:8080/"
        },
        "outputId": "b4ec6254-175c-4dea-d244-6f1d546020e2"
      },
      "source": [
        "x18 + x20"
      ],
      "execution_count": null,
      "outputs": [
        {
          "output_type": "execute_result",
          "data": {
            "text/plain": [
              "array([[1., 1., 1.],\n",
              "       [2., 2., 2.],\n",
              "       [3., 3., 3.]])"
            ]
          },
          "metadata": {
            "tags": []
          },
          "execution_count": 84
        }
      ]
    },
    {
      "cell_type": "code",
      "metadata": {
        "id": "hZ-D_KEyNARq",
        "colab": {
          "base_uri": "https://localhost:8080/"
        },
        "outputId": "e37e5be6-2cf9-4b2a-cf73-d9468c7e599b"
      },
      "source": [
        "x21 = np.ones((2,3))\n",
        "x21 , x21.shape"
      ],
      "execution_count": null,
      "outputs": [
        {
          "output_type": "execute_result",
          "data": {
            "text/plain": [
              "(array([[1., 1., 1.],\n",
              "        [1., 1., 1.]]), (2, 3))"
            ]
          },
          "metadata": {
            "tags": []
          },
          "execution_count": 85
        }
      ]
    },
    {
      "cell_type": "code",
      "metadata": {
        "id": "rMOrLhZwNARr",
        "colab": {
          "base_uri": "https://localhost:8080/",
          "height": 181
        },
        "outputId": "571b240f-c36d-4d67-88fd-739f0f03b210"
      },
      "source": [
        "# (2,3) & (3,3) -- Error\n",
        "x21 + x18"
      ],
      "execution_count": null,
      "outputs": [
        {
          "output_type": "error",
          "ename": "ValueError",
          "evalue": "ignored",
          "traceback": [
            "\u001b[0;31m---------------------------------------------------------------------------\u001b[0m",
            "\u001b[0;31mValueError\u001b[0m                                Traceback (most recent call last)",
            "\u001b[0;32m<ipython-input-86-8a562500ab65>\u001b[0m in \u001b[0;36m<module>\u001b[0;34m()\u001b[0m\n\u001b[1;32m      1\u001b[0m \u001b[0;31m# (2,3) & (3,3)\u001b[0m\u001b[0;34m\u001b[0m\u001b[0;34m\u001b[0m\u001b[0;34m\u001b[0m\u001b[0m\n\u001b[0;32m----> 2\u001b[0;31m \u001b[0mx21\u001b[0m \u001b[0;34m+\u001b[0m \u001b[0mx18\u001b[0m\u001b[0;34m\u001b[0m\u001b[0;34m\u001b[0m\u001b[0m\n\u001b[0m",
            "\u001b[0;31mValueError\u001b[0m: operands could not be broadcast together with shapes (2,3) (3,3) "
          ]
        }
      ]
    },
    {
      "cell_type": "code",
      "metadata": {
        "id": "fHr_1oYYNARs",
        "colab": {
          "base_uri": "https://localhost:8080/"
        },
        "outputId": "d9196b0c-2748-43dc-c025-f60b38deb783"
      },
      "source": [
        "# (2,3) & (3,) \n",
        "x21 + x19"
      ],
      "execution_count": null,
      "outputs": [
        {
          "output_type": "execute_result",
          "data": {
            "text/plain": [
              "array([[1., 2., 3.],\n",
              "       [1., 2., 3.]])"
            ]
          },
          "metadata": {
            "tags": []
          },
          "execution_count": 87
        }
      ]
    },
    {
      "cell_type": "code",
      "metadata": {
        "id": "LQ9-nmp4NARs",
        "colab": {
          "base_uri": "https://localhost:8080/",
          "height": 181
        },
        "outputId": "6922a400-104f-4a3d-f8a8-bbf91001e331"
      },
      "source": [
        "# (2,3) & (3,1) -- Error\n",
        "x21 + x20"
      ],
      "execution_count": null,
      "outputs": [
        {
          "output_type": "error",
          "ename": "ValueError",
          "evalue": "ignored",
          "traceback": [
            "\u001b[0;31m---------------------------------------------------------------------------\u001b[0m",
            "\u001b[0;31mValueError\u001b[0m                                Traceback (most recent call last)",
            "\u001b[0;32m<ipython-input-88-174fddceb017>\u001b[0m in \u001b[0;36m<module>\u001b[0;34m()\u001b[0m\n\u001b[1;32m      1\u001b[0m \u001b[0;31m# (2,3) & (3,1)\u001b[0m\u001b[0;34m\u001b[0m\u001b[0;34m\u001b[0m\u001b[0;34m\u001b[0m\u001b[0m\n\u001b[0;32m----> 2\u001b[0;31m \u001b[0mx21\u001b[0m \u001b[0;34m+\u001b[0m \u001b[0mx20\u001b[0m\u001b[0;34m\u001b[0m\u001b[0;34m\u001b[0m\u001b[0m\n\u001b[0m",
            "\u001b[0;31mValueError\u001b[0m: operands could not be broadcast together with shapes (2,3) (3,1) "
          ]
        }
      ]
    },
    {
      "cell_type": "markdown",
      "metadata": {
        "id": "ie4ykWQeNARs"
      },
      "source": [
        "#### <font color = 'Red'>Centering an array"
      ]
    },
    {
      "cell_type": "code",
      "metadata": {
        "id": "QcH7fHx2NARt"
      },
      "source": [
        ""
      ],
      "execution_count": null,
      "outputs": []
    },
    {
      "cell_type": "markdown",
      "metadata": {
        "id": "9QuMEmBXNARt"
      },
      "source": [
        "#### <font color = 'Red'> Plotting a two-dimensional function"
      ]
    },
    {
      "cell_type": "code",
      "metadata": {
        "id": "fgBzJrCXNARu"
      },
      "source": [
        ""
      ],
      "execution_count": null,
      "outputs": []
    },
    {
      "cell_type": "markdown",
      "metadata": {
        "id": "ZFeDlQkLNARv"
      },
      "source": [
        "## Comparisons, Masks, and Boolean Logic"
      ]
    },
    {
      "cell_type": "code",
      "metadata": {
        "id": "nBRwR-YTNARv"
      },
      "source": [
        "x21 = np.array([1,2,3,4,5,6,7,8,9])"
      ],
      "execution_count": null,
      "outputs": []
    },
    {
      "cell_type": "code",
      "metadata": {
        "id": "q-cGLq6RNARw",
        "colab": {
          "base_uri": "https://localhost:8080/"
        },
        "outputId": "96303819-74fa-4492-9235-556b43f17359"
      },
      "source": [
        "x21 > 3"
      ],
      "execution_count": null,
      "outputs": [
        {
          "output_type": "execute_result",
          "data": {
            "text/plain": [
              "array([False, False, False,  True,  True,  True,  True,  True,  True])"
            ]
          },
          "metadata": {
            "tags": []
          },
          "execution_count": 90
        }
      ]
    },
    {
      "cell_type": "code",
      "metadata": {
        "id": "3isIrtEdNARw",
        "colab": {
          "base_uri": "https://localhost:8080/"
        },
        "outputId": "27fcba67-75ef-4aee-e6ca-b52f5147d864"
      },
      "source": [
        "x21 <= 3"
      ],
      "execution_count": null,
      "outputs": [
        {
          "output_type": "execute_result",
          "data": {
            "text/plain": [
              "array([ True,  True,  True, False, False, False, False, False, False])"
            ]
          },
          "metadata": {
            "tags": []
          },
          "execution_count": 91
        }
      ]
    },
    {
      "cell_type": "code",
      "metadata": {
        "id": "X4Za34B_NARx",
        "colab": {
          "base_uri": "https://localhost:8080/"
        },
        "outputId": "d2ec61f2-cabf-4e55-eaac-573b8d0140bd"
      },
      "source": [
        "x21 == 3"
      ],
      "execution_count": null,
      "outputs": [
        {
          "output_type": "execute_result",
          "data": {
            "text/plain": [
              "array([False, False,  True, False, False, False, False, False, False])"
            ]
          },
          "metadata": {
            "tags": []
          },
          "execution_count": 92
        }
      ]
    },
    {
      "cell_type": "code",
      "metadata": {
        "id": "wLe70sjGNARx",
        "colab": {
          "base_uri": "https://localhost:8080/"
        },
        "outputId": "4149d906-7cca-41e8-ca39-a532218b6529"
      },
      "source": [
        "# element-by-element comparison of two arrays, and to include compound expressions.\n",
        "(2 * x21) == (x21 **2)"
      ],
      "execution_count": null,
      "outputs": [
        {
          "output_type": "execute_result",
          "data": {
            "text/plain": [
              "array([False,  True, False, False, False, False, False, False, False])"
            ]
          },
          "metadata": {
            "tags": []
          },
          "execution_count": 93
        }
      ]
    },
    {
      "cell_type": "code",
      "metadata": {
        "id": "nvJ5A9MoNARy",
        "colab": {
          "base_uri": "https://localhost:8080/"
        },
        "outputId": "b7feef4a-27b1-4c05-9753-846be5f86b63"
      },
      "source": [
        "# 2-D array\n",
        "rng = np.random.RandomState(0)\n",
        "x22 = rng.randint(10, size=(3,4))\n",
        "x22"
      ],
      "execution_count": null,
      "outputs": [
        {
          "output_type": "execute_result",
          "data": {
            "text/plain": [
              "array([[5, 0, 3, 3],\n",
              "       [7, 9, 3, 5],\n",
              "       [2, 4, 7, 6]])"
            ]
          },
          "metadata": {
            "tags": []
          },
          "execution_count": 94
        }
      ]
    },
    {
      "cell_type": "code",
      "metadata": {
        "id": "2_jo_SK5NARy",
        "colab": {
          "base_uri": "https://localhost:8080/"
        },
        "outputId": "e4dc0bf6-5383-4ec6-f638-539d8d0f306b"
      },
      "source": [
        "x22 < 6"
      ],
      "execution_count": null,
      "outputs": [
        {
          "output_type": "execute_result",
          "data": {
            "text/plain": [
              "array([[ True,  True,  True,  True],\n",
              "       [False, False,  True,  True],\n",
              "       [ True,  True, False, False]])"
            ]
          },
          "metadata": {
            "tags": []
          },
          "execution_count": 95
        }
      ]
    },
    {
      "cell_type": "code",
      "metadata": {
        "id": "x15HAWMRNARy",
        "colab": {
          "base_uri": "https://localhost:8080/"
        },
        "outputId": "4379e2fb-bf31-43db-f635-69df932c3412"
      },
      "source": [
        "# How many values less than 6\n",
        "np.count_nonzero(x22 < 6)"
      ],
      "execution_count": null,
      "outputs": [
        {
          "output_type": "execute_result",
          "data": {
            "text/plain": [
              "8"
            ]
          },
          "metadata": {
            "tags": []
          },
          "execution_count": 96
        }
      ]
    },
    {
      "cell_type": "code",
      "metadata": {
        "id": "uUXhuZalNARz",
        "colab": {
          "base_uri": "https://localhost:8080/"
        },
        "outputId": "548ad42e-fd7a-4b34-f986-281bf76c5c25"
      },
      "source": [
        "# In this case, False is interpreted as 0, and True is interpreted as 1.\n",
        "np.sum(x22 < 6)"
      ],
      "execution_count": null,
      "outputs": [
        {
          "output_type": "execute_result",
          "data": {
            "text/plain": [
              "8"
            ]
          },
          "metadata": {
            "tags": []
          },
          "execution_count": 97
        }
      ]
    },
    {
      "cell_type": "code",
      "metadata": {
        "id": "cg_lXOPzNAR0",
        "colab": {
          "base_uri": "https://localhost:8080/"
        },
        "outputId": "576f64e9-9da3-43eb-8970-5f46db574e19"
      },
      "source": [
        "# This counts the number of values less than 6 in each row of the matrix.\n",
        "np.sum(x22 < 6, axis = 1)"
      ],
      "execution_count": null,
      "outputs": [
        {
          "output_type": "execute_result",
          "data": {
            "text/plain": [
              "array([4, 2, 2])"
            ]
          },
          "metadata": {
            "tags": []
          },
          "execution_count": 98
        }
      ]
    },
    {
      "cell_type": "code",
      "metadata": {
        "id": "dtYyohmvNAR0",
        "colab": {
          "base_uri": "https://localhost:8080/"
        },
        "outputId": "27ea0d7f-c191-4c72-818a-d4579f8c2abe"
      },
      "source": [
        "# are there any values greater than 8?\n",
        "np.any(x22 > 8)"
      ],
      "execution_count": null,
      "outputs": [
        {
          "output_type": "execute_result",
          "data": {
            "text/plain": [
              "True"
            ]
          },
          "metadata": {
            "tags": []
          },
          "execution_count": 99
        }
      ]
    },
    {
      "cell_type": "code",
      "metadata": {
        "id": "fGzswAqWNAR2",
        "colab": {
          "base_uri": "https://localhost:8080/"
        },
        "outputId": "f309e6a2-52b9-4e45-b5b3-bd373870965d"
      },
      "source": [
        "# are all values less than 7?\n",
        "np.all(x22 > 7)"
      ],
      "execution_count": null,
      "outputs": [
        {
          "output_type": "execute_result",
          "data": {
            "text/plain": [
              "False"
            ]
          },
          "metadata": {
            "tags": []
          },
          "execution_count": 100
        }
      ]
    },
    {
      "cell_type": "code",
      "metadata": {
        "id": "6qczbkc2NAR3",
        "colab": {
          "base_uri": "https://localhost:8080/"
        },
        "outputId": "b4766c4a-b627-4cc5-d702-39d63ee38d96"
      },
      "source": [
        "# are all values in each row less than 4?\n",
        "np.all(x22 < 4, axis = 1)"
      ],
      "execution_count": null,
      "outputs": [
        {
          "output_type": "execute_result",
          "data": {
            "text/plain": [
              "array([False, False, False])"
            ]
          },
          "metadata": {
            "tags": []
          },
          "execution_count": 101
        }
      ]
    },
    {
      "cell_type": "code",
      "metadata": {
        "id": "7ZGCjz_GNAR7",
        "colab": {
          "base_uri": "https://localhost:8080/"
        },
        "outputId": "3fbdfae2-e7b0-47f9-a952-1df758da69c9"
      },
      "source": [
        "# any values in each row less than 4?\n",
        "np.any(x22 < 4, axis = 1)"
      ],
      "execution_count": null,
      "outputs": [
        {
          "output_type": "execute_result",
          "data": {
            "text/plain": [
              "array([ True,  True,  True])"
            ]
          },
          "metadata": {
            "tags": []
          },
          "execution_count": 102
        }
      ]
    },
    {
      "cell_type": "code",
      "metadata": {
        "id": "Ce1iotG2NAR7",
        "colab": {
          "base_uri": "https://localhost:8080/"
        },
        "outputId": "f7e98741-e955-4716-b453-43611ccd18dd"
      },
      "source": [
        "# compound questions\n",
        "np.sum((x22 > 3) & (x22 <6))"
      ],
      "execution_count": null,
      "outputs": [
        {
          "output_type": "execute_result",
          "data": {
            "text/plain": [
              "3"
            ]
          },
          "metadata": {
            "tags": []
          },
          "execution_count": 103
        }
      ]
    },
    {
      "cell_type": "code",
      "metadata": {
        "id": "u57FQtacNAR8",
        "colab": {
          "base_uri": "https://localhost:8080/"
        },
        "outputId": "0845c65e-7d24-4c16-8728-e86a336120e3"
      },
      "source": [
        "# Maskig which produces 1-D array\n",
        "x23 = x22[x22 < 6]\n",
        "x23"
      ],
      "execution_count": null,
      "outputs": [
        {
          "output_type": "execute_result",
          "data": {
            "text/plain": [
              "array([5, 0, 3, 3, 3, 5, 2, 4])"
            ]
          },
          "metadata": {
            "tags": []
          },
          "execution_count": 104
        }
      ]
    },
    {
      "cell_type": "code",
      "metadata": {
        "id": "uuaHGYLTNAR9",
        "colab": {
          "base_uri": "https://localhost:8080/"
        },
        "outputId": "216d9e21-c29b-40e9-ed2c-c5d04a39f134"
      },
      "source": [
        "# Running operations on the masked array\n",
        "np.sum(x23), np.min(x23), np.median(x23) "
      ],
      "execution_count": null,
      "outputs": [
        {
          "output_type": "execute_result",
          "data": {
            "text/plain": [
              "(25, 0, 3.0)"
            ]
          },
          "metadata": {
            "tags": []
          },
          "execution_count": 105
        }
      ]
    },
    {
      "cell_type": "code",
      "metadata": {
        "id": "buElfl2LNAR-",
        "colab": {
          "base_uri": "https://localhost:8080/"
        },
        "outputId": "0af977f1-9ed1-4e78-8b79-d44e21f5fd1e"
      },
      "source": [
        "# Using AND OR vs. & |\n",
        "x24 = np.array([1, 0, 1, 0, 1, 0], dtype = bool)\n",
        "x25 = np.array([1, 1, 1, 0, 1, 1], dtype = bool)\n",
        "x24 | x25"
      ],
      "execution_count": null,
      "outputs": [
        {
          "output_type": "execute_result",
          "data": {
            "text/plain": [
              "array([ True,  True,  True, False,  True,  True])"
            ]
          },
          "metadata": {
            "tags": []
          },
          "execution_count": 106
        }
      ]
    },
    {
      "cell_type": "code",
      "metadata": {
        "id": "Cnk4iHBMNAR_",
        "colab": {
          "base_uri": "https://localhost:8080/",
          "height": 130
        },
        "outputId": "2569c91d-1770-4f2f-d603-ebcb259f137b"
      },
      "source": [
        "# Using or on these arrays will try to evaluate the truth or falsehood of the entire array object, \n",
        "# which is not a well-defined value.\n",
        "x24 OR x25 -- Error"
      ],
      "execution_count": null,
      "outputs": [
        {
          "output_type": "error",
          "ename": "SyntaxError",
          "evalue": "ignored",
          "traceback": [
            "\u001b[0;36m  File \u001b[0;32m\"<ipython-input-108-999281c89715>\"\u001b[0;36m, line \u001b[0;32m3\u001b[0m\n\u001b[0;31m    x24 OR x25 -- Error\u001b[0m\n\u001b[0m         ^\u001b[0m\n\u001b[0;31mSyntaxError\u001b[0m\u001b[0;31m:\u001b[0m invalid syntax\n"
          ]
        }
      ]
    },
    {
      "cell_type": "markdown",
      "metadata": {
        "id": "bKKhtKlxNASA"
      },
      "source": [
        "## Fancy Indexing"
      ]
    },
    {
      "cell_type": "code",
      "metadata": {
        "id": "kmvTiSRCNASA"
      },
      "source": [
        "x26 = np.array([51,92,14,71,60,20,82,86,74,74])"
      ],
      "execution_count": null,
      "outputs": []
    },
    {
      "cell_type": "code",
      "metadata": {
        "id": "XvJs8ubRNASA",
        "colab": {
          "base_uri": "https://localhost:8080/"
        },
        "outputId": "4db826f5-0365-4655-ebd4-9cbfa69abc77"
      },
      "source": [
        "[x26[3],x26[4], x26[7]] "
      ],
      "execution_count": null,
      "outputs": [
        {
          "output_type": "execute_result",
          "data": {
            "text/plain": [
              "[71, 60, 86]"
            ]
          },
          "metadata": {
            "tags": []
          },
          "execution_count": 110
        }
      ]
    },
    {
      "cell_type": "code",
      "metadata": {
        "id": "T-SxMw3ENASA",
        "colab": {
          "base_uri": "https://localhost:8080/"
        },
        "outputId": "30a0c950-daa0-4bb4-c3ba-4187ef1b93d6"
      },
      "source": [
        "ind = [3, 4, 7]\n",
        "x26[ind]"
      ],
      "execution_count": null,
      "outputs": [
        {
          "output_type": "execute_result",
          "data": {
            "text/plain": [
              "array([71, 60, 86])"
            ]
          },
          "metadata": {
            "tags": []
          },
          "execution_count": 111
        }
      ]
    },
    {
      "cell_type": "code",
      "metadata": {
        "id": "HE5mSB1tNASB",
        "colab": {
          "base_uri": "https://localhost:8080/"
        },
        "outputId": "2f59f0fa-f072-4a5c-dd55-8dcab19ea987"
      },
      "source": [
        "# With fancy indexing, the shape of the result reflects the shape of the index arrays,\n",
        "# rather than the shape of the array being indexed.\n",
        "ind2 = np.array([[2,4],[5,7]])\n",
        "x26[ind2]"
      ],
      "execution_count": null,
      "outputs": [
        {
          "output_type": "execute_result",
          "data": {
            "text/plain": [
              "array([[14, 60],\n",
              "       [20, 86]])"
            ]
          },
          "metadata": {
            "tags": []
          },
          "execution_count": 112
        }
      ]
    },
    {
      "cell_type": "code",
      "metadata": {
        "id": "0rTkDqeNNASC",
        "colab": {
          "base_uri": "https://localhost:8080/"
        },
        "outputId": "6571088b-ecce-45da-aa9a-040972629e39"
      },
      "source": [
        "# Fancy indexing also works in multiple dimensions.\n",
        "x27 = np.arange(12).reshape((3,4))\n",
        "x27"
      ],
      "execution_count": null,
      "outputs": [
        {
          "output_type": "execute_result",
          "data": {
            "text/plain": [
              "array([[ 0,  1,  2,  3],\n",
              "       [ 4,  5,  6,  7],\n",
              "       [ 8,  9, 10, 11]])"
            ]
          },
          "metadata": {
            "tags": []
          },
          "execution_count": 113
        }
      ]
    },
    {
      "cell_type": "code",
      "metadata": {
        "id": "L44efArONASC",
        "colab": {
          "base_uri": "https://localhost:8080/"
        },
        "outputId": "c408bafc-fe30-4760-c1e0-2cc04fff0e6d"
      },
      "source": [
        "row = np.array([0,1,2])\n",
        "col = np.array([3,2,1])\n",
        "x27[row,col]\n",
        "# Notice that the first value in the result is X[0, 3], the second is X[1, 2], and the third is X[2, 1]."
      ],
      "execution_count": null,
      "outputs": [
        {
          "output_type": "execute_result",
          "data": {
            "text/plain": [
              "array([3, 6, 9])"
            ]
          },
          "metadata": {
            "tags": []
          },
          "execution_count": 114
        }
      ]
    },
    {
      "cell_type": "code",
      "metadata": {
        "id": "kNM24ey8NASC",
        "colab": {
          "base_uri": "https://localhost:8080/"
        },
        "outputId": "bcffbc13-b5c3-4d7e-aa11-3aa32d18f741"
      },
      "source": [
        "row2 = row[:, np.newaxis]\n",
        "row2"
      ],
      "execution_count": null,
      "outputs": [
        {
          "output_type": "execute_result",
          "data": {
            "text/plain": [
              "array([[0],\n",
              "       [1],\n",
              "       [2]])"
            ]
          },
          "metadata": {
            "tags": []
          },
          "execution_count": 115
        }
      ]
    },
    {
      "cell_type": "code",
      "metadata": {
        "id": "flKAuLbzNASD",
        "colab": {
          "base_uri": "https://localhost:8080/"
        },
        "outputId": "c1606d9a-0841-47e3-9330-bb4172b043b6"
      },
      "source": [
        "x27[row2,col]"
      ],
      "execution_count": null,
      "outputs": [
        {
          "output_type": "execute_result",
          "data": {
            "text/plain": [
              "array([[ 3,  2,  1],\n",
              "       [ 7,  6,  5],\n",
              "       [11, 10,  9]])"
            ]
          },
          "metadata": {
            "tags": []
          },
          "execution_count": 116
        }
      ]
    },
    {
      "cell_type": "code",
      "metadata": {
        "id": "J5ReLXunNASD",
        "colab": {
          "base_uri": "https://localhost:8080/"
        },
        "outputId": "d1526aed-c966-42bb-a5e7-d29ed58008c8"
      },
      "source": [
        "# Similarly performing arithmetic operations\n",
        "row2 * col"
      ],
      "execution_count": null,
      "outputs": [
        {
          "output_type": "execute_result",
          "data": {
            "text/plain": [
              "array([[0, 0, 0],\n",
              "       [3, 2, 1],\n",
              "       [6, 4, 2]])"
            ]
          },
          "metadata": {
            "tags": []
          },
          "execution_count": 117
        }
      ]
    },
    {
      "cell_type": "code",
      "metadata": {
        "id": "P11CeptrNASE",
        "colab": {
          "base_uri": "https://localhost:8080/"
        },
        "outputId": "c9936a38-6be3-4513-8108-1fad62f55a81"
      },
      "source": [
        "# Combined Indexing. \n",
        "x27"
      ],
      "execution_count": null,
      "outputs": [
        {
          "output_type": "execute_result",
          "data": {
            "text/plain": [
              "array([[ 0,  1,  2,  3],\n",
              "       [ 4,  5,  6,  7],\n",
              "       [ 8,  9, 10, 11]])"
            ]
          },
          "metadata": {
            "tags": []
          },
          "execution_count": 118
        }
      ]
    },
    {
      "cell_type": "code",
      "metadata": {
        "id": "UflcCFCfNASE",
        "colab": {
          "base_uri": "https://localhost:8080/"
        },
        "outputId": "439223f9-51a0-4a1b-fbab-4ed7642728aa"
      },
      "source": [
        "# [2] is for row, while [2,0,1] for cols.\n",
        "x27[2,[2,0,1]]"
      ],
      "execution_count": null,
      "outputs": [
        {
          "output_type": "execute_result",
          "data": {
            "text/plain": [
              "array([10,  8,  9])"
            ]
          },
          "metadata": {
            "tags": []
          },
          "execution_count": 119
        }
      ]
    },
    {
      "cell_type": "code",
      "metadata": {
        "id": "hDytjBwtNASE",
        "colab": {
          "base_uri": "https://localhost:8080/"
        },
        "outputId": "2c6aefb4-2443-4885-e8e6-8f41604ad28c"
      },
      "source": [
        "x27[1:,[2,0,1]]"
      ],
      "execution_count": null,
      "outputs": [
        {
          "output_type": "execute_result",
          "data": {
            "text/plain": [
              "array([[ 6,  4,  5],\n",
              "       [10,  8,  9]])"
            ]
          },
          "metadata": {
            "tags": []
          },
          "execution_count": 120
        }
      ]
    },
    {
      "cell_type": "code",
      "metadata": {
        "id": "kh6o5l9MNASF",
        "colab": {
          "base_uri": "https://localhost:8080/"
        },
        "outputId": "9d41dcee-f987-4722-d580-3c40a31b86c8"
      },
      "source": [
        "x27, row2, np.array([1,0,1,0], dtype=bool)"
      ],
      "execution_count": null,
      "outputs": [
        {
          "output_type": "execute_result",
          "data": {
            "text/plain": [
              "(array([[ 0,  1,  2,  3],\n",
              "        [ 4,  5,  6,  7],\n",
              "        [ 8,  9, 10, 11]]), array([[0],\n",
              "        [1],\n",
              "        [2]]), array([ True, False,  True, False]))"
            ]
          },
          "metadata": {
            "tags": []
          },
          "execution_count": 121
        }
      ]
    },
    {
      "cell_type": "code",
      "metadata": {
        "id": "aTbbkrN4NASF"
      },
      "source": [
        "mask =np.array([1,0,1,0], dtype=bool)"
      ],
      "execution_count": null,
      "outputs": []
    },
    {
      "cell_type": "code",
      "metadata": {
        "id": "YF7JBAj3NASI",
        "colab": {
          "base_uri": "https://localhost:8080/"
        },
        "outputId": "661b06f1-c882-45f3-d243-2a0ddc9d2f79"
      },
      "source": [
        "x27[row2,mask]"
      ],
      "execution_count": null,
      "outputs": [
        {
          "output_type": "execute_result",
          "data": {
            "text/plain": [
              "array([[ 0,  2],\n",
              "       [ 4,  6],\n",
              "       [ 8, 10]])"
            ]
          },
          "metadata": {
            "tags": []
          },
          "execution_count": 123
        }
      ]
    },
    {
      "cell_type": "markdown",
      "metadata": {
        "id": "hwSZ-sRXNASK"
      },
      "source": [
        "#### <font color = 'Red'>Selecting Random Points"
      ]
    },
    {
      "cell_type": "code",
      "metadata": {
        "id": "gNr9MsjBNASK"
      },
      "source": [
        ""
      ],
      "execution_count": null,
      "outputs": []
    },
    {
      "cell_type": "code",
      "metadata": {
        "id": "RcgFn-oTNASK",
        "colab": {
          "base_uri": "https://localhost:8080/"
        },
        "outputId": "31181f6d-fde9-48a9-c845-83bf2258b4bc"
      },
      "source": [
        "# Modifying Values with Fancy Indexing\n",
        "x28 = np.arange(10)\n",
        "x29 = np.array([2,1,8,4])\n",
        "print(x28)\n",
        "print(x29)"
      ],
      "execution_count": null,
      "outputs": [
        {
          "output_type": "stream",
          "text": [
            "[0 1 2 3 4 5 6 7 8 9]\n",
            "[2 1 8 4]\n"
          ],
          "name": "stdout"
        }
      ]
    },
    {
      "cell_type": "code",
      "metadata": {
        "id": "Qg4un1rUNASL",
        "colab": {
          "base_uri": "https://localhost:8080/"
        },
        "outputId": "1f9ded41-df73-4a83-fec8-1902e766ca2d"
      },
      "source": [
        "x28[x29]=99\n",
        "print(x28)"
      ],
      "execution_count": null,
      "outputs": [
        {
          "output_type": "stream",
          "text": [
            "[ 0 99 99  3 99  5  6  7 99  9]\n"
          ],
          "name": "stdout"
        }
      ]
    },
    {
      "cell_type": "code",
      "metadata": {
        "id": "87Y4ONRwNASM",
        "colab": {
          "base_uri": "https://localhost:8080/"
        },
        "outputId": "c6cc9cdc-13e9-4582-d205-9d22881cabf5"
      },
      "source": [
        "# subtracting 10 \n",
        "x28[x29] -= 10\n",
        "# it is a short hand for x28[x29] = x28[x29] - 10\n",
        "print(x28)"
      ],
      "execution_count": null,
      "outputs": [
        {
          "output_type": "stream",
          "text": [
            "[ 0 89 89  3 89  5  6  7 89  9]\n"
          ],
          "name": "stdout"
        }
      ]
    },
    {
      "cell_type": "code",
      "metadata": {
        "id": "byuUKCD2NASM",
        "colab": {
          "base_uri": "https://localhost:8080/"
        },
        "outputId": "519bb14d-1ad7-4e16-854d-c7fbe9f5b1dd"
      },
      "source": [
        "x30 = np.zeros(10)\n",
        "print(x30)\n",
        "x30[[0,1]] = [4,6]\n",
        "print(x30)\n",
        "x30[[0,0]] = [77,88]\n",
        "# First assigned 77 and then 88\n",
        "print(x30)"
      ],
      "execution_count": null,
      "outputs": [
        {
          "output_type": "stream",
          "text": [
            "[0. 0. 0. 0. 0. 0. 0. 0. 0. 0.]\n",
            "[4. 6. 0. 0. 0. 0. 0. 0. 0. 0.]\n",
            "[88.  6.  0.  0.  0.  0.  0.  0.  0.  0.]\n"
          ],
          "name": "stdout"
        }
      ]
    },
    {
      "cell_type": "markdown",
      "metadata": {
        "id": "uiP6tKlsNASM"
      },
      "source": [
        "#### <font color = 'Red'>Example: Binning Data"
      ]
    },
    {
      "cell_type": "markdown",
      "metadata": {
        "id": "xPgSbZHINASN"
      },
      "source": [
        "### Fast Sorting in NumPy:"
      ]
    },
    {
      "cell_type": "code",
      "metadata": {
        "id": "7R463WzZNASN",
        "colab": {
          "base_uri": "https://localhost:8080/"
        },
        "outputId": "6b8c92f3-4104-4b4e-a53f-2c5962303a00"
      },
      "source": [
        "x31 = np.array([2, 1, 4, 3, 5])\n",
        "print(x31)\n",
        "# Sorting without modifying the input\n",
        "print(np.sort(x31))\n",
        "# Sorting the array in place\n",
        "x31.sort()\n",
        "print(x31)"
      ],
      "execution_count": null,
      "outputs": [
        {
          "output_type": "stream",
          "text": [
            "[2 1 4 3 5]\n",
            "[1 2 3 4 5]\n",
            "[1 2 3 4 5]\n"
          ],
          "name": "stdout"
        }
      ]
    },
    {
      "cell_type": "code",
      "metadata": {
        "id": "N4VC9gNyNASP",
        "colab": {
          "base_uri": "https://localhost:8080/"
        },
        "outputId": "4ea5d647-a3f3-476f-a020-6d5dcf3ab368"
      },
      "source": [
        "x32 = np.array([3,1,6,2,7,9])\n",
        "# returning the indices of the sorted elements  \n",
        "print(x32)\n",
        "print(np.argsort(x32))"
      ],
      "execution_count": null,
      "outputs": [
        {
          "output_type": "stream",
          "text": [
            "[3 1 6 2 7 9]\n",
            "[1 3 0 2 4 5]\n"
          ],
          "name": "stdout"
        }
      ]
    },
    {
      "cell_type": "code",
      "metadata": {
        "id": "DQ4DMKMhNASP",
        "colab": {
          "base_uri": "https://localhost:8080/"
        },
        "outputId": "0caf3f51-28dc-4707-f683-6beeba1b531c"
      },
      "source": [
        "rand2 = np.random.RandomState(42)\n",
        "x33 = rand2.randint(0, 10, (4, 6))\n",
        "print(x33)\n",
        "\n",
        "# Sorting each column\n",
        "print(np.sort(x33, axis = 0))\n",
        "\n",
        "# Sorting each row\n",
        "print(np.sort(x33, axis = 1))"
      ],
      "execution_count": null,
      "outputs": [
        {
          "output_type": "stream",
          "text": [
            "[[6 3 7 4 6 9]\n",
            " [2 6 7 4 3 7]\n",
            " [7 2 5 4 1 7]\n",
            " [5 1 4 0 9 5]]\n",
            "[[2 1 4 0 1 5]\n",
            " [5 2 5 4 3 7]\n",
            " [6 3 7 4 6 7]\n",
            " [7 6 7 4 9 9]]\n",
            "[[3 4 6 6 7 9]\n",
            " [2 3 4 6 7 7]\n",
            " [1 2 4 5 7 7]\n",
            " [0 1 4 5 5 9]]\n"
          ],
          "name": "stdout"
        }
      ]
    },
    {
      "cell_type": "code",
      "metadata": {
        "id": "w38JCtfyNASQ",
        "colab": {
          "base_uri": "https://localhost:8080/"
        },
        "outputId": "e48dcf50-a5b2-4dfe-8c48-c0c82c16b60c"
      },
      "source": [
        "# np.partition takes an array and a number K; the result is a new array.\n",
        "x34 = np.array([2,4,1,5,7,3,3,39])\n",
        "np.partition(x34, 3)\n",
        "# Within the two partitions, the elements have arbitrary order"
      ],
      "execution_count": null,
      "outputs": [
        {
          "output_type": "execute_result",
          "data": {
            "text/plain": [
              "array([ 2,  1,  3,  3,  4,  5,  7, 39])"
            ]
          },
          "metadata": {
            "tags": []
          },
          "execution_count": 131
        }
      ]
    },
    {
      "cell_type": "code",
      "metadata": {
        "id": "a3Zzn6egNASR",
        "colab": {
          "base_uri": "https://localhost:8080/"
        },
        "outputId": "3b74cf8a-7e05-4e25-e076-f9a36d68caaf"
      },
      "source": [
        "np.partition(x33, 2, axis =1)\n",
        "# first two slots in each row contain the smallest values from that row"
      ],
      "execution_count": null,
      "outputs": [
        {
          "output_type": "execute_result",
          "data": {
            "text/plain": [
              "array([[3, 4, 6, 7, 6, 9],\n",
              "       [2, 3, 4, 7, 6, 7],\n",
              "       [1, 2, 4, 5, 7, 7],\n",
              "       [0, 1, 4, 5, 9, 5]])"
            ]
          },
          "metadata": {
            "tags": []
          },
          "execution_count": 132
        }
      ]
    },
    {
      "cell_type": "markdown",
      "metadata": {
        "id": "zyZrV3kYNASR"
      },
      "source": [
        "#### <font color = 'Red'>k-Nearest Neighbors"
      ]
    },
    {
      "cell_type": "markdown",
      "metadata": {
        "id": "IgoD8PPzNASS"
      },
      "source": [
        "### NumPy’s Structured Arrays"
      ]
    },
    {
      "cell_type": "code",
      "metadata": {
        "id": "5mF1NZuZNASS"
      },
      "source": [
        "name = ['Alice', 'Bob', 'Cathy', 'Doug']\n",
        "age = [25, 45, 37, 19]\n",
        "weight = [55.0, 85.5, 68.0, 61.5]\n",
        "# Nothing tells us that it is related. How can we use single structure to store all this data."
      ],
      "execution_count": null,
      "outputs": []
    },
    {
      "cell_type": "code",
      "metadata": {
        "id": "VwfBFxzaNASS",
        "colab": {
          "base_uri": "https://localhost:8080/"
        },
        "outputId": "ba9753a4-488c-45ce-d2b9-de7679e992a9"
      },
      "source": [
        "# Use a compound data type for structured arrays. We will creat an empty container array,\n",
        "data = np.zeros(4, dtype ={ 'names': ('name', 'age', 'weight'), 'formats':('U10', 'i4', 'f8')})\n",
        "print(data.dtype)\n",
        "# 'U10' translates to “Unicode string of maximum length 10,” \n",
        "# 'i4' translates to “4-byte (i.e., 32 bit) integer,” \n",
        "# 'f8' translates to “8-byte (i.e., 64 bit) float.”"
      ],
      "execution_count": null,
      "outputs": [
        {
          "output_type": "stream",
          "text": [
            "[('name', '<U10'), ('age', '<i4'), ('weight', '<f8')]\n"
          ],
          "name": "stdout"
        }
      ]
    },
    {
      "cell_type": "code",
      "metadata": {
        "id": "qdG0Z3mvNAST",
        "colab": {
          "base_uri": "https://localhost:8080/"
        },
        "outputId": "61e3b4af-dcd3-4e3e-a18a-134b21187706"
      },
      "source": [
        "# We will fill the empty cotainer array with our list of values\n",
        "data['name'] = name\n",
        "data['age'] = age\n",
        "data['weight'] = weight\n",
        "print(data)"
      ],
      "execution_count": null,
      "outputs": [
        {
          "output_type": "stream",
          "text": [
            "[('Alice', 25, 55. ) ('Bob', 45, 85.5) ('Cathy', 37, 68. )\n",
            " ('Doug', 19, 61.5)]\n"
          ],
          "name": "stdout"
        }
      ]
    },
    {
      "cell_type": "code",
      "metadata": {
        "id": "JQ0JvDd6NASU",
        "colab": {
          "base_uri": "https://localhost:8080/"
        },
        "outputId": "b72425e7-3743-4f8d-b643-78625282f138"
      },
      "source": [
        "# Now we can use names or indexes\n",
        "data['name']"
      ],
      "execution_count": null,
      "outputs": [
        {
          "output_type": "execute_result",
          "data": {
            "text/plain": [
              "array(['Alice', 'Bob', 'Cathy', 'Doug'], dtype='<U10')"
            ]
          },
          "metadata": {
            "tags": []
          },
          "execution_count": 136
        }
      ]
    },
    {
      "cell_type": "code",
      "metadata": {
        "id": "ltPbJaRfNASU",
        "colab": {
          "base_uri": "https://localhost:8080/"
        },
        "outputId": "e397a6ac-5a81-488c-fd00-b02a442a69b3"
      },
      "source": [
        "# First row of data\n",
        "data[0]"
      ],
      "execution_count": null,
      "outputs": [
        {
          "output_type": "execute_result",
          "data": {
            "text/plain": [
              "('Alice', 25, 55.)"
            ]
          },
          "metadata": {
            "tags": []
          },
          "execution_count": 137
        }
      ]
    },
    {
      "cell_type": "code",
      "metadata": {
        "id": "jRACICOTNASU",
        "colab": {
          "base_uri": "https://localhost:8080/"
        },
        "outputId": "68c20f79-e452-4a04-91fe-4bd014a5c494"
      },
      "source": [
        "# Getting name from last row\n",
        "data[-1]['name']"
      ],
      "execution_count": null,
      "outputs": [
        {
          "output_type": "execute_result",
          "data": {
            "application/vnd.google.colaboratory.intrinsic+json": {
              "type": "string"
            },
            "text/plain": [
              "'Doug'"
            ]
          },
          "metadata": {
            "tags": []
          },
          "execution_count": 138
        }
      ]
    },
    {
      "cell_type": "code",
      "metadata": {
        "id": "PvyWS1HLNASV",
        "colab": {
          "base_uri": "https://localhost:8080/"
        },
        "outputId": "b88b0f78-79b1-43bb-ec0b-fe914590502b"
      },
      "source": [
        "# Getting name with age < 30\n",
        "data[data['age']<30]['name']"
      ],
      "execution_count": null,
      "outputs": [
        {
          "output_type": "execute_result",
          "data": {
            "text/plain": [
              "array(['Alice', 'Doug'], dtype='<U10')"
            ]
          },
          "metadata": {
            "tags": []
          },
          "execution_count": 139
        }
      ]
    },
    {
      "cell_type": "code",
      "metadata": {
        "id": "a2whn-azNASW"
      },
      "source": [
        "# Pandas provides a DataFrame object, which is a structure built on NumPy arrays. \n",
        "# It offers a variety of useful data manipulation functionality similar to what we’ve seen here"
      ],
      "execution_count": null,
      "outputs": []
    },
    {
      "cell_type": "code",
      "metadata": {
        "id": "eJUeqZrQNASX",
        "colab": {
          "base_uri": "https://localhost:8080/"
        },
        "outputId": "343b30bc-aa18-4d71-b600-0766641b5b35"
      },
      "source": [
        "# Field can be accessed as attributes rather than dictionary keys through record arrays. \n",
        "# However, there is an overhead using this method when accessing the fields\n",
        "data_rec = data.view(np.recarray)\n",
        "data['age'], data_rec.age"
      ],
      "execution_count": null,
      "outputs": [
        {
          "output_type": "execute_result",
          "data": {
            "text/plain": [
              "(array([25, 45, 37, 19], dtype=int32), array([25, 45, 37, 19], dtype=int32))"
            ]
          },
          "metadata": {
            "tags": []
          },
          "execution_count": 141
        }
      ]
    },
    {
      "cell_type": "code",
      "metadata": {
        "id": "Ma6sdwI2NASY"
      },
      "source": [
        ""
      ],
      "execution_count": null,
      "outputs": []
    }
  ]
}