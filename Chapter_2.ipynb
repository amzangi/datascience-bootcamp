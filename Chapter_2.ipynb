{
  "nbformat": 4,
  "nbformat_minor": 0,
  "metadata": {
    "kernelspec": {
      "display_name": "Python 3",
      "language": "python",
      "name": "python3"
    },
    "language_info": {
      "codemirror_mode": {
        "name": "ipython",
        "version": 3
      },
      "file_extension": ".py",
      "mimetype": "text/x-python",
      "name": "python",
      "nbconvert_exporter": "python",
      "pygments_lexer": "ipython3",
      "version": "3.7.6"
    },
    "colab": {
      "name": "Chapter 2.ipynb",
      "provenance": [],
      "include_colab_link": true
    }
  },
  "cells": [
    {
      "cell_type": "markdown",
      "metadata": {
        "id": "view-in-github",
        "colab_type": "text"
      },
      "source": [
        "<a href=\"https://colab.research.google.com/github/amzangi/datasciencecoursera/blob/master/Chapter_2.ipynb\" target=\"_parent\"><img src=\"https://colab.research.google.com/assets/colab-badge.svg\" alt=\"Open In Colab\"/></a>"
      ]
    },
    {
      "cell_type": "code",
      "metadata": {
        "id": "AWXx8AGQNAQQ"
      },
      "source": [
        "import numpy as np"
      ],
      "execution_count": null,
      "outputs": []
    },
    {
      "cell_type": "code",
      "metadata": {
        "id": "otQrA7j2NAQR",
        "outputId": "2f0b9805-b42d-456e-c374-4827e566e5c1"
      },
      "source": [
        "L = list(range(11))\n",
        "L"
      ],
      "execution_count": null,
      "outputs": [
        {
          "output_type": "execute_result",
          "data": {
            "text/plain": [
              "[0, 1, 2, 3, 4, 5, 6, 7, 8, 9, 10]"
            ]
          },
          "metadata": {
            "tags": []
          },
          "execution_count": 80
        }
      ]
    },
    {
      "cell_type": "code",
      "metadata": {
        "id": "tl8omjBUNAQT",
        "outputId": "391a82da-1c78-4622-a75a-3c1f5b59666d"
      },
      "source": [
        "type(L[0])"
      ],
      "execution_count": null,
      "outputs": [
        {
          "output_type": "execute_result",
          "data": {
            "text/plain": [
              "int"
            ]
          },
          "metadata": {
            "tags": []
          },
          "execution_count": 81
        }
      ]
    },
    {
      "cell_type": "code",
      "metadata": {
        "id": "M11klYwgNAQW",
        "outputId": "7c9238e0-247a-4200-d611-2a8d2b6db4be"
      },
      "source": [
        "L2 = [str(c) for c in L]\n",
        "L2"
      ],
      "execution_count": null,
      "outputs": [
        {
          "output_type": "execute_result",
          "data": {
            "text/plain": [
              "['0', '1', '2', '3', '4', '5', '6', '7', '8', '9', '10']"
            ]
          },
          "metadata": {
            "tags": []
          },
          "execution_count": 82
        }
      ]
    },
    {
      "cell_type": "code",
      "metadata": {
        "id": "j-MHf4uyNAQX",
        "outputId": "0c507bd4-bd49-4a7b-94b9-57a9dc2e2f53"
      },
      "source": [
        "type(L2[0])"
      ],
      "execution_count": null,
      "outputs": [
        {
          "output_type": "execute_result",
          "data": {
            "text/plain": [
              "str"
            ]
          },
          "metadata": {
            "tags": []
          },
          "execution_count": 83
        }
      ]
    },
    {
      "cell_type": "code",
      "metadata": {
        "id": "gkK0XvWtNAQX",
        "outputId": "d44a931c-091e-4e83-b1e2-61af44850a61"
      },
      "source": [
        "np.array(range(10))"
      ],
      "execution_count": null,
      "outputs": [
        {
          "output_type": "execute_result",
          "data": {
            "text/plain": [
              "array([0, 1, 2, 3, 4, 5, 6, 7, 8, 9])"
            ]
          },
          "metadata": {
            "tags": []
          },
          "execution_count": 84
        }
      ]
    },
    {
      "cell_type": "code",
      "metadata": {
        "id": "76yW2jAZNAQY",
        "outputId": "d47e1711-ea93-41b7-a599-bd46dc96114d"
      },
      "source": [
        "# Remember that unlike Python lists, NumPy is constrained to arrays that all contain the same type. \n",
        "np.array([3.14, 1, 3])"
      ],
      "execution_count": null,
      "outputs": [
        {
          "output_type": "execute_result",
          "data": {
            "text/plain": [
              "array([3.14, 1.  , 3.  ])"
            ]
          },
          "metadata": {
            "tags": []
          },
          "execution_count": 85
        }
      ]
    },
    {
      "cell_type": "code",
      "metadata": {
        "id": "eyiMr1TVNAQZ",
        "outputId": "c1f438f6-ac1a-4a24-9d26-bf5c5d417960"
      },
      "source": [
        "# To explicitly set the data type\n",
        "np.array([1,2,3,4], dtype='float32')"
      ],
      "execution_count": null,
      "outputs": [
        {
          "output_type": "execute_result",
          "data": {
            "text/plain": [
              "array([1., 2., 3., 4.], dtype=float32)"
            ]
          },
          "metadata": {
            "tags": []
          },
          "execution_count": 86
        }
      ]
    },
    {
      "cell_type": "code",
      "metadata": {
        "id": "IM-ZSjvzNAQa",
        "outputId": "1a5d4e50-0cf2-4d0d-cf2c-6d0489d3c9c1"
      },
      "source": [
        "# Unlike Python lists, NumPy arrays can explicitly be multidimensional.\n",
        "np.array([range(i, i+3) for i in [2,4,6]])"
      ],
      "execution_count": null,
      "outputs": [
        {
          "output_type": "execute_result",
          "data": {
            "text/plain": [
              "array([[2, 3, 4],\n",
              "       [4, 5, 6],\n",
              "       [6, 7, 8]])"
            ]
          },
          "metadata": {
            "tags": []
          },
          "execution_count": 87
        }
      ]
    },
    {
      "cell_type": "markdown",
      "metadata": {
        "id": "4eE6V3wQNAQa"
      },
      "source": [
        "## Using routines built into NumPy"
      ]
    },
    {
      "cell_type": "code",
      "metadata": {
        "id": "1cF4P6p9NAQb",
        "outputId": "d89f63d2-c599-4512-df16-3a0fbaad02f3"
      },
      "source": [
        "# array filled with zeros\n",
        "np.zeros(10, dtype=int)"
      ],
      "execution_count": null,
      "outputs": [
        {
          "output_type": "execute_result",
          "data": {
            "text/plain": [
              "array([0, 0, 0, 0, 0, 0, 0, 0, 0, 0])"
            ]
          },
          "metadata": {
            "tags": []
          },
          "execution_count": 88
        }
      ]
    },
    {
      "cell_type": "code",
      "metadata": {
        "id": "n1-J12G6NAQb",
        "outputId": "a79ae472-80d4-410b-f9cb-d874b3f93d5d"
      },
      "source": [
        "# array filled with ones\n",
        "np.ones((3,5), dtype=float)"
      ],
      "execution_count": null,
      "outputs": [
        {
          "output_type": "execute_result",
          "data": {
            "text/plain": [
              "array([[1., 1., 1., 1., 1.],\n",
              "       [1., 1., 1., 1., 1.],\n",
              "       [1., 1., 1., 1., 1.]])"
            ]
          },
          "metadata": {
            "tags": []
          },
          "execution_count": 89
        }
      ]
    },
    {
      "cell_type": "code",
      "metadata": {
        "id": "Ys0DtfBENAQc",
        "outputId": "5ce878d4-f4e9-41d1-e92c-abdaa09f8073"
      },
      "source": [
        "# array filled with 3.14\n",
        "np.full((3,5), 3.14)"
      ],
      "execution_count": null,
      "outputs": [
        {
          "output_type": "execute_result",
          "data": {
            "text/plain": [
              "array([[3.14, 3.14, 3.14, 3.14, 3.14],\n",
              "       [3.14, 3.14, 3.14, 3.14, 3.14],\n",
              "       [3.14, 3.14, 3.14, 3.14, 3.14]])"
            ]
          },
          "metadata": {
            "tags": []
          },
          "execution_count": 90
        }
      ]
    },
    {
      "cell_type": "code",
      "metadata": {
        "id": "H5kxTqSxNAQc",
        "outputId": "8d42321d-bc8c-49d6-ab96-500e9a14e669"
      },
      "source": [
        "# array filled with a linear sequence. Starting at 0, ending at 20, stepping by 2\n",
        "np.arange(1,20,2)"
      ],
      "execution_count": null,
      "outputs": [
        {
          "output_type": "execute_result",
          "data": {
            "text/plain": [
              "array([ 1,  3,  5,  7,  9, 11, 13, 15, 17, 19])"
            ]
          },
          "metadata": {
            "tags": []
          },
          "execution_count": 91
        }
      ]
    },
    {
      "cell_type": "code",
      "metadata": {
        "id": "FHqfF4SHNAQe",
        "outputId": "118f4cc3-9789-4c10-b53c-63b5bfc9ad13"
      },
      "source": [
        "# array of five values evenly spaced between 1 and 10\n",
        "np.linspace(1,10,5)"
      ],
      "execution_count": null,
      "outputs": [
        {
          "output_type": "execute_result",
          "data": {
            "text/plain": [
              "array([ 1.  ,  3.25,  5.5 ,  7.75, 10.  ])"
            ]
          },
          "metadata": {
            "tags": []
          },
          "execution_count": 92
        }
      ]
    },
    {
      "cell_type": "code",
      "metadata": {
        "id": "QgAj3AEENAQf",
        "outputId": "7090e802-b437-4454-d9c7-92f7d70c8d75"
      },
      "source": [
        "# array of uniformly distributed random values between 0 and 1\n",
        "np.random.random((3,3))"
      ],
      "execution_count": null,
      "outputs": [
        {
          "output_type": "execute_result",
          "data": {
            "text/plain": [
              "array([[0.58156024, 0.84093984, 0.4290231 ],\n",
              "       [0.19226078, 0.92741121, 0.98867374],\n",
              "       [0.91029776, 0.83613335, 0.28601493]])"
            ]
          },
          "metadata": {
            "tags": []
          },
          "execution_count": 93
        }
      ]
    },
    {
      "cell_type": "code",
      "metadata": {
        "id": "eJkHATUFNAQg",
        "outputId": "a2a53803-6b04-4044-c738-eecf8b03ab29"
      },
      "source": [
        "# array of uniformly distributed random values between mean 0 and standard deviation 1\n",
        "np.random.normal(0,1,(3,3))"
      ],
      "execution_count": null,
      "outputs": [
        {
          "output_type": "execute_result",
          "data": {
            "text/plain": [
              "array([[-0.59373323, -1.58680173,  0.23002908],\n",
              "       [-2.05641253,  0.4885519 ,  0.12320313],\n",
              "       [-0.44610077, -0.08063193,  1.77213236]])"
            ]
          },
          "metadata": {
            "tags": []
          },
          "execution_count": 94
        }
      ]
    },
    {
      "cell_type": "code",
      "metadata": {
        "id": "DntBtkQSNAQh",
        "outputId": "ec976913-0a2f-45c8-e2a3-0c7867fee4c8"
      },
      "source": [
        "# array of random integers in the interval 0 and 10\n",
        "np.random.randint(0,10,(3,3))"
      ],
      "execution_count": null,
      "outputs": [
        {
          "output_type": "execute_result",
          "data": {
            "text/plain": [
              "array([[5, 8, 3],\n",
              "       [1, 4, 9],\n",
              "       [3, 9, 6]])"
            ]
          },
          "metadata": {
            "tags": []
          },
          "execution_count": 95
        }
      ]
    },
    {
      "cell_type": "code",
      "metadata": {
        "id": "fydKeRVvNAQh",
        "outputId": "b5401de4-c356-4e43-a4bf-959ec9e4415c"
      },
      "source": [
        "# identity matrix\n",
        "np.eye(3)"
      ],
      "execution_count": null,
      "outputs": [
        {
          "output_type": "execute_result",
          "data": {
            "text/plain": [
              "array([[1., 0., 0.],\n",
              "       [0., 1., 0.],\n",
              "       [0., 0., 1.]])"
            ]
          },
          "metadata": {
            "tags": []
          },
          "execution_count": 96
        }
      ]
    },
    {
      "cell_type": "code",
      "metadata": {
        "id": "jo6deypnNAQi",
        "outputId": "ea9984ee-d849-44d3-98ae-9354d578c178"
      },
      "source": [
        "np.zeros(10, dtype='int16')"
      ],
      "execution_count": null,
      "outputs": [
        {
          "output_type": "execute_result",
          "data": {
            "text/plain": [
              "array([0, 0, 0, 0, 0, 0, 0, 0, 0, 0], dtype=int16)"
            ]
          },
          "metadata": {
            "tags": []
          },
          "execution_count": 97
        }
      ]
    },
    {
      "cell_type": "code",
      "metadata": {
        "id": "sK8NC3XpNAQj",
        "outputId": "84101546-af2a-4a1d-f611-f0bd50a576d7"
      },
      "source": [
        "np.zeros(10, dtype=np.int16)"
      ],
      "execution_count": null,
      "outputs": [
        {
          "output_type": "execute_result",
          "data": {
            "text/plain": [
              "array([0, 0, 0, 0, 0, 0, 0, 0, 0, 0], dtype=int16)"
            ]
          },
          "metadata": {
            "tags": []
          },
          "execution_count": 98
        }
      ]
    },
    {
      "cell_type": "code",
      "metadata": {
        "id": "J6rKA3bkNAQj"
      },
      "source": [
        "# seed for reproductivity\n",
        "np.random.seed(0)"
      ],
      "execution_count": null,
      "outputs": []
    },
    {
      "cell_type": "code",
      "metadata": {
        "id": "jXxWLbQ0NAQk"
      },
      "source": [
        "# 1 Dimensional\n",
        "x1 = np.random.randint(10, size=6)\n",
        "# 2 Dimensional\n",
        "x2 = np.random.randint(10, size=(3,4))\n",
        "# 3 Dimensional\n",
        "x3 = np.random.randint(10, size=(3,4,5))"
      ],
      "execution_count": null,
      "outputs": []
    },
    {
      "cell_type": "code",
      "metadata": {
        "id": "IbB-jEzKNAQn",
        "outputId": "0d208e10-12cf-41c6-e554-ad8719ec5ecc"
      },
      "source": [
        "# 2 - Dimensional\n",
        "x2"
      ],
      "execution_count": null,
      "outputs": [
        {
          "output_type": "execute_result",
          "data": {
            "text/plain": [
              "array([[3, 5, 2, 4],\n",
              "       [7, 6, 8, 8],\n",
              "       [1, 6, 7, 7]])"
            ]
          },
          "metadata": {
            "tags": []
          },
          "execution_count": 101
        }
      ]
    },
    {
      "cell_type": "code",
      "metadata": {
        "id": "PDGoQucdNAQn",
        "outputId": "aeb3484c-cc0b-47a5-8acb-21bb4f0e4a9a"
      },
      "source": [
        "x2.ndim, x2.shape, x2.size, x2.dtype"
      ],
      "execution_count": null,
      "outputs": [
        {
          "output_type": "execute_result",
          "data": {
            "text/plain": [
              "(2, (3, 4), 12, dtype('int32'))"
            ]
          },
          "metadata": {
            "tags": []
          },
          "execution_count": 102
        }
      ]
    },
    {
      "cell_type": "code",
      "metadata": {
        "id": "J4Cq4kiENAQo",
        "outputId": "9853f847-b6d7-41ef-a1bc-8589a37e9c37"
      },
      "source": [
        "# 3 - Dimensional\n",
        "x3"
      ],
      "execution_count": null,
      "outputs": [
        {
          "output_type": "execute_result",
          "data": {
            "text/plain": [
              "array([[[8, 1, 5, 9, 8],\n",
              "        [9, 4, 3, 0, 3],\n",
              "        [5, 0, 2, 3, 8],\n",
              "        [1, 3, 3, 3, 7]],\n",
              "\n",
              "       [[0, 1, 9, 9, 0],\n",
              "        [4, 7, 3, 2, 7],\n",
              "        [2, 0, 0, 4, 5],\n",
              "        [5, 6, 8, 4, 1]],\n",
              "\n",
              "       [[4, 9, 8, 1, 1],\n",
              "        [7, 9, 9, 3, 6],\n",
              "        [7, 2, 0, 3, 5],\n",
              "        [9, 4, 4, 6, 4]]])"
            ]
          },
          "metadata": {
            "tags": []
          },
          "execution_count": 103
        }
      ]
    },
    {
      "cell_type": "code",
      "metadata": {
        "id": "jesJynnRNAQp",
        "outputId": "b6611806-b004-4c28-95e2-2dc49fdf79d8"
      },
      "source": [
        "x3.ndim, x3.shape, x3.size, x3.dtype"
      ],
      "execution_count": null,
      "outputs": [
        {
          "output_type": "execute_result",
          "data": {
            "text/plain": [
              "(3, (3, 4, 5), 60, dtype('int32'))"
            ]
          },
          "metadata": {
            "tags": []
          },
          "execution_count": 104
        }
      ]
    },
    {
      "cell_type": "markdown",
      "metadata": {
        "id": "gY2JfzSvNAQq"
      },
      "source": [
        "## Array Indexing"
      ]
    },
    {
      "cell_type": "code",
      "metadata": {
        "id": "qq4DnYJQNAQq",
        "outputId": "de1c3c23-c5d3-4968-e1e6-698a3bd0c72f"
      },
      "source": [
        "x1"
      ],
      "execution_count": null,
      "outputs": [
        {
          "output_type": "execute_result",
          "data": {
            "text/plain": [
              "array([5, 0, 3, 3, 7, 9])"
            ]
          },
          "metadata": {
            "tags": []
          },
          "execution_count": 105
        }
      ]
    },
    {
      "cell_type": "code",
      "metadata": {
        "id": "nxvIVCl-NAQv",
        "outputId": "26b4d8d6-8186-45b3-cb84-0b991ae99d2c"
      },
      "source": [
        "x1[0],x1[-1]"
      ],
      "execution_count": null,
      "outputs": [
        {
          "output_type": "execute_result",
          "data": {
            "text/plain": [
              "(5, 9)"
            ]
          },
          "metadata": {
            "tags": []
          },
          "execution_count": 106
        }
      ]
    },
    {
      "cell_type": "code",
      "metadata": {
        "id": "872gUHVLNAQv",
        "outputId": "a15cf077-f90a-4216-831d-7e90ff7f3d5b"
      },
      "source": [
        "x2"
      ],
      "execution_count": null,
      "outputs": [
        {
          "output_type": "execute_result",
          "data": {
            "text/plain": [
              "array([[3, 5, 2, 4],\n",
              "       [7, 6, 8, 8],\n",
              "       [1, 6, 7, 7]])"
            ]
          },
          "metadata": {
            "tags": []
          },
          "execution_count": 107
        }
      ]
    },
    {
      "cell_type": "code",
      "metadata": {
        "id": "IgfO1uckNAQw",
        "outputId": "b682a0fb-0850-48de-ae2d-fbe50bc72d88"
      },
      "source": [
        "# In a multidimensional array, you access items using a comma-separated tuple of indices\n",
        "x2[0,0], x2[1,2], x2[2,-2]"
      ],
      "execution_count": null,
      "outputs": [
        {
          "output_type": "execute_result",
          "data": {
            "text/plain": [
              "(3, 8, 7)"
            ]
          },
          "metadata": {
            "tags": []
          },
          "execution_count": 108
        }
      ]
    },
    {
      "cell_type": "code",
      "metadata": {
        "id": "yViLMESwNAQw",
        "outputId": "dec9529b-c485-4896-ff1a-e8b4099f906b"
      },
      "source": [
        "# unlike Python lists, NumPy arrays have a fixed type. \n",
        "# This means, for example, that if you attempt to insert a floating-point value to an integer array, \n",
        "# the value will be silently truncated.\n",
        "x2[0,0]=3.11\n",
        "x2"
      ],
      "execution_count": null,
      "outputs": [
        {
          "output_type": "execute_result",
          "data": {
            "text/plain": [
              "array([[3, 5, 2, 4],\n",
              "       [7, 6, 8, 8],\n",
              "       [1, 6, 7, 7]])"
            ]
          },
          "metadata": {
            "tags": []
          },
          "execution_count": 109
        }
      ]
    },
    {
      "cell_type": "markdown",
      "metadata": {
        "id": "NyW_xE4KNAQx"
      },
      "source": [
        "## Array Slicing:  x[start:stop:step]\n",
        "#### If any of these are unspecified, they default to the values start=0, stop=size of dimension, step=1."
      ]
    },
    {
      "cell_type": "code",
      "metadata": {
        "id": "6S4zueguNAQz",
        "outputId": "4e6af3f2-5405-41ca-a481-a95405f8e18e"
      },
      "source": [
        "x4 = np.arange(10)\n",
        "x4"
      ],
      "execution_count": null,
      "outputs": [
        {
          "output_type": "execute_result",
          "data": {
            "text/plain": [
              "array([0, 1, 2, 3, 4, 5, 6, 7, 8, 9])"
            ]
          },
          "metadata": {
            "tags": []
          },
          "execution_count": 110
        }
      ]
    },
    {
      "cell_type": "code",
      "metadata": {
        "id": "iCB3djZ9NAQ1",
        "outputId": "b1ef4709-107b-48b3-e1ac-9e0197f53ab9"
      },
      "source": [
        "x4[:3], x4[3:], x4[:3:]"
      ],
      "execution_count": null,
      "outputs": [
        {
          "output_type": "execute_result",
          "data": {
            "text/plain": [
              "(array([0, 1, 2]), array([3, 4, 5, 6, 7, 8, 9]), array([0, 1, 2]))"
            ]
          },
          "metadata": {
            "tags": []
          },
          "execution_count": 111
        }
      ]
    },
    {
      "cell_type": "code",
      "metadata": {
        "id": "D4Bh25M6NAQ3",
        "outputId": "ebd609d8-749c-433b-b85b-d3626a9a221e"
      },
      "source": [
        "x4[2:5], x4[:5:2], x4[0::2] "
      ],
      "execution_count": null,
      "outputs": [
        {
          "output_type": "execute_result",
          "data": {
            "text/plain": [
              "(array([2, 3, 4]), array([0, 2, 4]), array([0, 2, 4, 6, 8]))"
            ]
          },
          "metadata": {
            "tags": []
          },
          "execution_count": 112
        }
      ]
    },
    {
      "cell_type": "code",
      "metadata": {
        "id": "NVkG96LONAQ3",
        "outputId": "96e5360a-3765-46fe-a47c-4b7d5c84610e"
      },
      "source": [
        "# Start and stopped are swapped with negative step value\n",
        "x4[:5:-1], x4[5::-1]"
      ],
      "execution_count": null,
      "outputs": [
        {
          "output_type": "execute_result",
          "data": {
            "text/plain": [
              "(array([9, 8, 7, 6]), array([5, 4, 3, 2, 1, 0]))"
            ]
          },
          "metadata": {
            "tags": []
          },
          "execution_count": 113
        }
      ]
    },
    {
      "cell_type": "code",
      "metadata": {
        "id": "CC18kTdaNAQ4",
        "outputId": "2d3a2e62-de1d-4a48-aeaf-eb8dccf515ac"
      },
      "source": [
        "x2"
      ],
      "execution_count": null,
      "outputs": [
        {
          "output_type": "execute_result",
          "data": {
            "text/plain": [
              "array([[3, 5, 2, 4],\n",
              "       [7, 6, 8, 8],\n",
              "       [1, 6, 7, 7]])"
            ]
          },
          "metadata": {
            "tags": []
          },
          "execution_count": 114
        }
      ]
    },
    {
      "cell_type": "code",
      "metadata": {
        "id": "Sr05MNRkNAQ4",
        "outputId": "bd95281d-4ee4-4f96-954b-fc191684411b"
      },
      "source": [
        "# For indexing Two Dimenional Arrays, we need 2 indexes separated by comma. First for ROWS, second for COLUMNS. \n",
        "# two rows, three columns\n",
        "x2[:2,:3]"
      ],
      "execution_count": null,
      "outputs": [
        {
          "output_type": "execute_result",
          "data": {
            "text/plain": [
              "array([[3, 5, 2],\n",
              "       [7, 6, 8]])"
            ]
          },
          "metadata": {
            "tags": []
          },
          "execution_count": 115
        }
      ]
    },
    {
      "cell_type": "code",
      "metadata": {
        "id": "sGiDl7lgNAQ5",
        "outputId": "56d93e2d-7550-462f-d305-29044303a886"
      },
      "source": [
        "# all rows, every other column\n",
        "x2[:3,::2]"
      ],
      "execution_count": null,
      "outputs": [
        {
          "output_type": "execute_result",
          "data": {
            "text/plain": [
              "array([[3, 2],\n",
              "       [7, 8],\n",
              "       [1, 7]])"
            ]
          },
          "metadata": {
            "tags": []
          },
          "execution_count": 116
        }
      ]
    },
    {
      "cell_type": "code",
      "metadata": {
        "id": "OvLGtyPWNAQ6",
        "outputId": "b96d8b05-a305-449c-d312-755d8b363a4b"
      },
      "source": [
        "# subarray dimensions can even be reversed together:\n",
        "x2[::-1,::-1]"
      ],
      "execution_count": null,
      "outputs": [
        {
          "output_type": "execute_result",
          "data": {
            "text/plain": [
              "array([[7, 7, 6, 1],\n",
              "       [8, 8, 6, 7],\n",
              "       [4, 2, 5, 3]])"
            ]
          },
          "metadata": {
            "tags": []
          },
          "execution_count": 117
        }
      ]
    },
    {
      "cell_type": "code",
      "metadata": {
        "id": "Am5Q-E6SNAQ6",
        "outputId": "48ff9be1-303e-4a82-fa9d-e47490402a15"
      },
      "source": [
        "# First Column\n",
        "x2[:,0]"
      ],
      "execution_count": null,
      "outputs": [
        {
          "output_type": "execute_result",
          "data": {
            "text/plain": [
              "array([3, 7, 1])"
            ]
          },
          "metadata": {
            "tags": []
          },
          "execution_count": 118
        }
      ]
    },
    {
      "cell_type": "code",
      "metadata": {
        "id": "KKx9TLsJNAQ7",
        "outputId": "ac295560-25cb-465e-961b-92eb94f864db"
      },
      "source": [
        "# First Row. Comma & Colon can be omitted.\n",
        "x2[0,:], x2[0]"
      ],
      "execution_count": null,
      "outputs": [
        {
          "output_type": "execute_result",
          "data": {
            "text/plain": [
              "(array([3, 5, 2, 4]), array([3, 5, 2, 4]))"
            ]
          },
          "metadata": {
            "tags": []
          },
          "execution_count": 119
        }
      ]
    },
    {
      "cell_type": "code",
      "metadata": {
        "id": "ci_OT36gNAQ8",
        "outputId": "b97eb7c6-6686-41bf-8a7f-3caec8aedae7"
      },
      "source": [
        "# Numpy array slices are views rather than copies of original data. Change in a slice is inherited by the array. e.g.:\n",
        "x2[:2,:2]"
      ],
      "execution_count": null,
      "outputs": [
        {
          "output_type": "execute_result",
          "data": {
            "text/plain": [
              "array([[3, 5],\n",
              "       [7, 6]])"
            ]
          },
          "metadata": {
            "tags": []
          },
          "execution_count": 120
        }
      ]
    },
    {
      "cell_type": "code",
      "metadata": {
        "id": "XG1xtOCjNAQ8",
        "outputId": "65f4d8c9-dbc2-4a01-ea99-93559bf716b0"
      },
      "source": [
        "x2b = x2[:2,:2]\n",
        "x2b[0,0] = 99\n",
        "x2"
      ],
      "execution_count": null,
      "outputs": [
        {
          "output_type": "execute_result",
          "data": {
            "text/plain": [
              "array([[99,  5,  2,  4],\n",
              "       [ 7,  6,  8,  8],\n",
              "       [ 1,  6,  7,  7]])"
            ]
          },
          "metadata": {
            "tags": []
          },
          "execution_count": 121
        }
      ]
    },
    {
      "cell_type": "code",
      "metadata": {
        "id": "o6-begR4NAQ9",
        "outputId": "cefedceb-e165-45c7-ab0d-25ef7d094c33"
      },
      "source": [
        "x2b_copy = x2b.copy()\n",
        "x2b_copy[0,0] = 999\n",
        "x2b_copy"
      ],
      "execution_count": null,
      "outputs": [
        {
          "output_type": "execute_result",
          "data": {
            "text/plain": [
              "array([[999,   5],\n",
              "       [  7,   6]])"
            ]
          },
          "metadata": {
            "tags": []
          },
          "execution_count": 122
        }
      ]
    },
    {
      "cell_type": "code",
      "metadata": {
        "id": "ZWQQhGYNNAQ_",
        "outputId": "6e3dc025-160d-40d3-e2bf-e2912358d16f"
      },
      "source": [
        "x2_b"
      ],
      "execution_count": null,
      "outputs": [
        {
          "output_type": "error",
          "ename": "NameError",
          "evalue": "name 'x2_b' is not defined",
          "traceback": [
            "\u001b[1;31m---------------------------------------------------------------------------\u001b[0m",
            "\u001b[1;31mNameError\u001b[0m                                 Traceback (most recent call last)",
            "\u001b[1;32m<ipython-input-123-202def26551e>\u001b[0m in \u001b[0;36m<module>\u001b[1;34m\u001b[0m\n\u001b[1;32m----> 1\u001b[1;33m \u001b[0mx2_b\u001b[0m\u001b[1;33m\u001b[0m\u001b[1;33m\u001b[0m\u001b[0m\n\u001b[0m",
            "\u001b[1;31mNameError\u001b[0m: name 'x2_b' is not defined"
          ]
        }
      ]
    },
    {
      "cell_type": "markdown",
      "metadata": {
        "id": "7gINI0GLNAQ_"
      },
      "source": [
        "## Reshaping of Arrays"
      ]
    },
    {
      "cell_type": "code",
      "metadata": {
        "id": "_YPUFbh2NARA",
        "outputId": "ff3755d7-39a0-4859-e90a-56fd533de957"
      },
      "source": [
        "x5 = np.arange(1,10)\n",
        "x5"
      ],
      "execution_count": null,
      "outputs": [
        {
          "output_type": "execute_result",
          "data": {
            "text/plain": [
              "array([1, 2, 3, 4, 5, 6, 7, 8, 9])"
            ]
          },
          "metadata": {
            "tags": []
          },
          "execution_count": 124
        }
      ]
    },
    {
      "cell_type": "code",
      "metadata": {
        "id": "Edva_e9uNARA",
        "outputId": "f061b7fa-2982-4eb7-91a2-be269605426d"
      },
      "source": [
        "# size of the initial array must match the size of the reshaped array.\n",
        "grid1 = x5.reshape((3,3))\n",
        "grid1"
      ],
      "execution_count": null,
      "outputs": [
        {
          "output_type": "execute_result",
          "data": {
            "text/plain": [
              "array([[1, 2, 3],\n",
              "       [4, 5, 6],\n",
              "       [7, 8, 9]])"
            ]
          },
          "metadata": {
            "tags": []
          },
          "execution_count": 125
        }
      ]
    },
    {
      "cell_type": "code",
      "metadata": {
        "id": "BbfanSFUNARB",
        "outputId": "f6fe0766-aae7-49c2-e274-3d01c45fec2e"
      },
      "source": [
        "x6 = np.array([1,2,3])\n",
        "# column vector via reshape\n",
        "x6.reshape((3,1))"
      ],
      "execution_count": null,
      "outputs": [
        {
          "output_type": "execute_result",
          "data": {
            "text/plain": [
              "array([[1],\n",
              "       [2],\n",
              "       [3]])"
            ]
          },
          "metadata": {
            "tags": []
          },
          "execution_count": 126
        }
      ]
    },
    {
      "cell_type": "code",
      "metadata": {
        "id": "w0LshNbmNARB",
        "outputId": "167b8d8f-5ce9-4e4c-9024-3455ea814531"
      },
      "source": [
        "# column vector via newaxis\n",
        "x6[:,np.newaxis]"
      ],
      "execution_count": null,
      "outputs": [
        {
          "output_type": "execute_result",
          "data": {
            "text/plain": [
              "array([[1],\n",
              "       [2],\n",
              "       [3]])"
            ]
          },
          "metadata": {
            "tags": []
          },
          "execution_count": 127
        }
      ]
    },
    {
      "cell_type": "markdown",
      "metadata": {
        "id": "nxgr28CZNARB"
      },
      "source": [
        "## Array Concatenation and Splitting"
      ]
    },
    {
      "cell_type": "code",
      "metadata": {
        "id": "i6Ih-htmNARC",
        "outputId": "5891c528-d462-487e-b35c-0f78e65096f2"
      },
      "source": [
        "x7 = np.array([1,2,3])\n",
        "x8 = np.array([4,5,6])\n",
        "x9 = [99,100,101]\n",
        "np.concatenate([x7,x8,x9])"
      ],
      "execution_count": null,
      "outputs": [
        {
          "output_type": "execute_result",
          "data": {
            "text/plain": [
              "array([  1,   2,   3,   4,   5,   6,  99, 100, 101])"
            ]
          },
          "metadata": {
            "tags": []
          },
          "execution_count": 128
        }
      ]
    },
    {
      "cell_type": "code",
      "metadata": {
        "id": "8_uo3pyYNARC"
      },
      "source": [
        "grid2 = np.array([[1,2,3],[4,5,6]])"
      ],
      "execution_count": null,
      "outputs": []
    },
    {
      "cell_type": "code",
      "metadata": {
        "id": "jZBBCLN5NARD",
        "outputId": "49c9bfee-ad7b-4b75-91dd-3cd0fe763273"
      },
      "source": [
        "# concatenate along the first axis\n",
        "np.concatenate([grid2,grid2])"
      ],
      "execution_count": null,
      "outputs": [
        {
          "output_type": "execute_result",
          "data": {
            "text/plain": [
              "array([[1, 2, 3],\n",
              "       [4, 5, 6],\n",
              "       [1, 2, 3],\n",
              "       [4, 5, 6]])"
            ]
          },
          "metadata": {
            "tags": []
          },
          "execution_count": 130
        }
      ]
    },
    {
      "cell_type": "code",
      "metadata": {
        "id": "-SomDeXlNARE",
        "outputId": "2153a584-5513-4931-d3f6-35b229f61807"
      },
      "source": [
        "# concatenate along the second axis (zero-indexed)\n",
        "np.concatenate([grid2,grid2], axis=1)"
      ],
      "execution_count": null,
      "outputs": [
        {
          "output_type": "execute_result",
          "data": {
            "text/plain": [
              "array([[1, 2, 3, 1, 2, 3],\n",
              "       [4, 5, 6, 4, 5, 6]])"
            ]
          },
          "metadata": {
            "tags": []
          },
          "execution_count": 131
        }
      ]
    },
    {
      "cell_type": "code",
      "metadata": {
        "id": "XBH_ECWYNARG",
        "outputId": "cf7c3d68-eca4-43a8-b30b-768ba72f450b"
      },
      "source": [
        "# vertically stack the arrays of mixed dimension\n",
        "np.vstack([x9,grid2])"
      ],
      "execution_count": null,
      "outputs": [
        {
          "output_type": "execute_result",
          "data": {
            "text/plain": [
              "array([[ 99, 100, 101],\n",
              "       [  1,   2,   3],\n",
              "       [  4,   5,   6]])"
            ]
          },
          "metadata": {
            "tags": []
          },
          "execution_count": 132
        }
      ]
    },
    {
      "cell_type": "code",
      "metadata": {
        "id": "2H9yf3R5NARI",
        "outputId": "46a12580-22d8-4900-aecc-b62c2a1eb96c"
      },
      "source": [
        "# horizontally stack the arrays of mixed dimension\n",
        "x10 = np.array([[22],[44]])\n",
        "np.hstack([x10,grid2])"
      ],
      "execution_count": null,
      "outputs": [
        {
          "output_type": "execute_result",
          "data": {
            "text/plain": [
              "array([[22,  1,  2,  3],\n",
              "       [44,  4,  5,  6]])"
            ]
          },
          "metadata": {
            "tags": []
          },
          "execution_count": 133
        }
      ]
    },
    {
      "cell_type": "code",
      "metadata": {
        "id": "3B7G09WpNARJ",
        "outputId": "98076504-404d-41fe-bedf-35bb5eb18b90"
      },
      "source": [
        "x11 = [1,2,3,44,55,6,7,8]\n",
        "x12, x13, x14 = np.split(x11, [3,4])\n",
        "print (x12, x13, x14)"
      ],
      "execution_count": null,
      "outputs": [
        {
          "output_type": "stream",
          "text": [
            "[1 2 3] [44] [55  6  7  8]\n"
          ],
          "name": "stdout"
        }
      ]
    },
    {
      "cell_type": "code",
      "metadata": {
        "id": "TN8yJaEKNARK",
        "outputId": "7dd23bce-8596-4605-97fb-1e161d53fe3f"
      },
      "source": [
        "grid3 = np.arange(0,16).reshape(4,4) \n",
        "grid3"
      ],
      "execution_count": null,
      "outputs": [
        {
          "output_type": "execute_result",
          "data": {
            "text/plain": [
              "array([[ 0,  1,  2,  3],\n",
              "       [ 4,  5,  6,  7],\n",
              "       [ 8,  9, 10, 11],\n",
              "       [12, 13, 14, 15]])"
            ]
          },
          "metadata": {
            "tags": []
          },
          "execution_count": 135
        }
      ]
    },
    {
      "cell_type": "code",
      "metadata": {
        "id": "lbIFPSgTNARL",
        "outputId": "37314c9f-62a2-42fc-c524-eca95e0de828"
      },
      "source": [
        "np.vsplit(grid3, [2])"
      ],
      "execution_count": null,
      "outputs": [
        {
          "output_type": "execute_result",
          "data": {
            "text/plain": [
              "[array([[0, 1, 2, 3],\n",
              "        [4, 5, 6, 7]]),\n",
              " array([[ 8,  9, 10, 11],\n",
              "        [12, 13, 14, 15]])]"
            ]
          },
          "metadata": {
            "tags": []
          },
          "execution_count": 136
        }
      ]
    },
    {
      "cell_type": "code",
      "metadata": {
        "id": "mRW-X3I-NARP",
        "outputId": "d2d298d2-3f9f-451d-bea5-1a142fdb687e"
      },
      "source": [
        "np.hsplit(grid3, [2])"
      ],
      "execution_count": null,
      "outputs": [
        {
          "output_type": "execute_result",
          "data": {
            "text/plain": [
              "[array([[ 0,  1],\n",
              "        [ 4,  5],\n",
              "        [ 8,  9],\n",
              "        [12, 13]]),\n",
              " array([[ 2,  3],\n",
              "        [ 6,  7],\n",
              "        [10, 11],\n",
              "        [14, 15]])]"
            ]
          },
          "metadata": {
            "tags": []
          },
          "execution_count": 137
        }
      ]
    },
    {
      "cell_type": "markdown",
      "metadata": {
        "id": "Ju7QzBkCNARQ"
      },
      "source": [
        "## Universal Functions"
      ]
    },
    {
      "cell_type": "code",
      "metadata": {
        "id": "7OKniZhgNARR",
        "outputId": "ffb760a1-6cb5-43ff-897f-ecf941e2e7b8"
      },
      "source": [
        "x10 = np.arange(4)\n",
        "x10 , x10 + 2 , x10 * 2, x10 / 2 , x10 // 2 , -x10 , x10**2 , x10 % 2"
      ],
      "execution_count": null,
      "outputs": [
        {
          "output_type": "execute_result",
          "data": {
            "text/plain": [
              "(array([0, 1, 2, 3]),\n",
              " array([2, 3, 4, 5]),\n",
              " array([0, 2, 4, 6]),\n",
              " array([0. , 0.5, 1. , 1.5]),\n",
              " array([0, 0, 1, 1], dtype=int32),\n",
              " array([ 0, -1, -2, -3]),\n",
              " array([0, 1, 4, 9], dtype=int32),\n",
              " array([0, 1, 0, 1], dtype=int32))"
            ]
          },
          "metadata": {
            "tags": []
          },
          "execution_count": 138
        }
      ]
    },
    {
      "cell_type": "code",
      "metadata": {
        "id": "gLlRLfVjNART",
        "outputId": "73702f7e-8434-4c5e-cbf1-4292c4e69d5f"
      },
      "source": [
        "x11 = -(2 * x10 + 1) **2\n",
        "x11 , abs(x11)"
      ],
      "execution_count": null,
      "outputs": [
        {
          "output_type": "execute_result",
          "data": {
            "text/plain": [
              "(array([ -1,  -9, -25, -49], dtype=int32),\n",
              " array([ 1,  9, 25, 49], dtype=int32))"
            ]
          },
          "metadata": {
            "tags": []
          },
          "execution_count": 139
        }
      ]
    },
    {
      "cell_type": "code",
      "metadata": {
        "id": "OVlf7UlhNARY",
        "outputId": "0d03e5f1-ec9f-4e25-a46a-e1e7a76ad8bc"
      },
      "source": [
        "x12 = np.linspace(0, np.pi, 3)\n",
        "x12 , np.sin(x12) , np.cos(x12) , np.tan(x12)"
      ],
      "execution_count": null,
      "outputs": [
        {
          "output_type": "execute_result",
          "data": {
            "text/plain": [
              "(array([0.        , 1.57079633, 3.14159265]),\n",
              " array([0.0000000e+00, 1.0000000e+00, 1.2246468e-16]),\n",
              " array([ 1.000000e+00,  6.123234e-17, -1.000000e+00]),\n",
              " array([ 0.00000000e+00,  1.63312394e+16, -1.22464680e-16]))"
            ]
          },
          "metadata": {
            "tags": []
          },
          "execution_count": 140
        }
      ]
    },
    {
      "cell_type": "code",
      "metadata": {
        "id": "2WSD3s_YNARZ",
        "outputId": "c27432ac-c260-4320-876c-1f97ae9f2aaa"
      },
      "source": [
        "x13 = [1, 0 , -1]\n",
        "x13, np.arcsin(x13) , np.arccos(x13) , np.arctan(x13)"
      ],
      "execution_count": null,
      "outputs": [
        {
          "output_type": "execute_result",
          "data": {
            "text/plain": [
              "([1, 0, -1],\n",
              " array([ 1.57079633,  0.        , -1.57079633]),\n",
              " array([0.        , 1.57079633, 3.14159265]),\n",
              " array([ 0.78539816,  0.        , -0.78539816]))"
            ]
          },
          "metadata": {
            "tags": []
          },
          "execution_count": 141
        }
      ]
    },
    {
      "cell_type": "code",
      "metadata": {
        "id": "yskFNPeKNARa",
        "outputId": "0b6d1c7c-5784-4dd9-8da8-46f68c151fda"
      },
      "source": [
        "x14 = [1, 2, 3]\n",
        "np.exp(x14), np.exp2(x14), np.power(2, x14)"
      ],
      "execution_count": null,
      "outputs": [
        {
          "output_type": "execute_result",
          "data": {
            "text/plain": [
              "(array([ 2.71828183,  7.3890561 , 20.08553692]),\n",
              " array([2., 4., 8.]),\n",
              " array([2, 4, 8], dtype=int32))"
            ]
          },
          "metadata": {
            "tags": []
          },
          "execution_count": 142
        }
      ]
    },
    {
      "cell_type": "code",
      "metadata": {
        "id": "rfo2dIFiNARb",
        "outputId": "c907d25c-8661-4d1b-c15e-e4d8559b1b31"
      },
      "source": [
        "x15 = [1, 2, 4, 10]\n",
        "np.log(x15), np.log2(x15), np.log10(x15)"
      ],
      "execution_count": null,
      "outputs": [
        {
          "output_type": "execute_result",
          "data": {
            "text/plain": [
              "(array([0.        , 0.69314718, 1.38629436, 2.30258509]),\n",
              " array([0.        , 1.        , 2.        , 3.32192809]),\n",
              " array([0.        , 0.30103   , 0.60205999, 1.        ]))"
            ]
          },
          "metadata": {
            "tags": []
          },
          "execution_count": 143
        }
      ]
    },
    {
      "cell_type": "code",
      "metadata": {
        "id": "eUj93SSHNARb",
        "outputId": "bde10c8c-2a67-4290-f632-7ccdd1c24ab7"
      },
      "source": [
        "# calling reduce on ufunc returns the sum and multiplication of all elements in the array\n",
        "np.add.reduce(x15), np.muliply.reduce(x15) "
      ],
      "execution_count": null,
      "outputs": [
        {
          "output_type": "error",
          "ename": "AttributeError",
          "evalue": "module 'numpy' has no attribute 'muliply'",
          "traceback": [
            "\u001b[1;31m---------------------------------------------------------------------------\u001b[0m",
            "\u001b[1;31mAttributeError\u001b[0m                            Traceback (most recent call last)",
            "\u001b[1;32m<ipython-input-144-2e18ff96f341>\u001b[0m in \u001b[0;36m<module>\u001b[1;34m\u001b[0m\n\u001b[0;32m      1\u001b[0m \u001b[1;31m# calling reduce on ufunc returns the sum and multiplication of all elements in the array\u001b[0m\u001b[1;33m\u001b[0m\u001b[1;33m\u001b[0m\u001b[1;33m\u001b[0m\u001b[0m\n\u001b[1;32m----> 2\u001b[1;33m \u001b[0mnp\u001b[0m\u001b[1;33m.\u001b[0m\u001b[0madd\u001b[0m\u001b[1;33m.\u001b[0m\u001b[0mreduce\u001b[0m\u001b[1;33m(\u001b[0m\u001b[0mx15\u001b[0m\u001b[1;33m)\u001b[0m\u001b[1;33m,\u001b[0m \u001b[0mnp\u001b[0m\u001b[1;33m.\u001b[0m\u001b[0mmuliply\u001b[0m\u001b[1;33m.\u001b[0m\u001b[0mreduce\u001b[0m\u001b[1;33m(\u001b[0m\u001b[0mx15\u001b[0m\u001b[1;33m)\u001b[0m\u001b[1;33m\u001b[0m\u001b[1;33m\u001b[0m\u001b[0m\n\u001b[0m",
            "\u001b[1;32mC:\\ProgramData\\Anaconda3\\lib\\site-packages\\numpy\\__init__.py\u001b[0m in \u001b[0;36m__getattr__\u001b[1;34m(attr)\u001b[0m\n\u001b[0;32m    218\u001b[0m             \u001b[1;32melse\u001b[0m\u001b[1;33m:\u001b[0m\u001b[1;33m\u001b[0m\u001b[1;33m\u001b[0m\u001b[0m\n\u001b[0;32m    219\u001b[0m                 raise AttributeError(\"module {!r} has no attribute \"\n\u001b[1;32m--> 220\u001b[1;33m                                      \"{!r}\".format(__name__, attr))\n\u001b[0m\u001b[0;32m    221\u001b[0m \u001b[1;33m\u001b[0m\u001b[0m\n\u001b[0;32m    222\u001b[0m         \u001b[1;32mdef\u001b[0m \u001b[0m__dir__\u001b[0m\u001b[1;33m(\u001b[0m\u001b[1;33m)\u001b[0m\u001b[1;33m:\u001b[0m\u001b[1;33m\u001b[0m\u001b[1;33m\u001b[0m\u001b[0m\n",
            "\u001b[1;31mAttributeError\u001b[0m: module 'numpy' has no attribute 'muliply'"
          ]
        }
      ]
    },
    {
      "cell_type": "code",
      "metadata": {
        "id": "yXIbEEi_NARc"
      },
      "source": [
        "# calling acumulate on ufunc returns the intermediate results of computation\n",
        "np.add.accumulate(x15), np.multiply.accumulate(x15)"
      ],
      "execution_count": null,
      "outputs": []
    },
    {
      "cell_type": "code",
      "metadata": {
        "id": "T5_zsEnHNARd",
        "outputId": "b6e6f979-8773-4bb1-882f-0bcfa76e8319"
      },
      "source": [
        "# multiplicaton table\n",
        "np.add.outer(x15, x15)"
      ],
      "execution_count": null,
      "outputs": [
        {
          "output_type": "execute_result",
          "data": {
            "text/plain": [
              "array([[ 2,  3,  5, 11],\n",
              "       [ 3,  4,  6, 12],\n",
              "       [ 5,  6,  8, 14],\n",
              "       [11, 12, 14, 20]])"
            ]
          },
          "metadata": {
            "tags": []
          },
          "execution_count": 145
        }
      ]
    },
    {
      "cell_type": "code",
      "metadata": {
        "id": "inY1RxaVNARe",
        "outputId": "6f835ff1-3c58-4795-cd63-4b7a2e56e1b9"
      },
      "source": [
        "# 1-D array is straightforward , let see 2-d array\n",
        "x16 = np.random.random((2,3))\n",
        "x16"
      ],
      "execution_count": null,
      "outputs": [
        {
          "output_type": "execute_result",
          "data": {
            "text/plain": [
              "array([[0.65279032, 0.63505887, 0.99529957],\n",
              "       [0.58185033, 0.41436859, 0.4746975 ]])"
            ]
          },
          "metadata": {
            "tags": []
          },
          "execution_count": 146
        }
      ]
    },
    {
      "cell_type": "code",
      "metadata": {
        "id": "iQSRm3X_NARf",
        "outputId": "37067ddb-a2ef-4454-b2e7-03eb3f69c0a6"
      },
      "source": [
        "np.sum(x16), np.min(x16), np.max(x16)"
      ],
      "execution_count": null,
      "outputs": [
        {
          "output_type": "execute_result",
          "data": {
            "text/plain": [
              "(3.7540651782402583, 0.4143685882263688, 0.9952995676778876)"
            ]
          },
          "metadata": {
            "tags": []
          },
          "execution_count": 147
        }
      ]
    },
    {
      "cell_type": "code",
      "metadata": {
        "id": "rJmeF8FBNARg",
        "outputId": "b893e004-6f91-48c7-a272-1bf27d1607fc"
      },
      "source": [
        "# min value along each column\n",
        "np.min(x16, axis=0)"
      ],
      "execution_count": null,
      "outputs": [
        {
          "output_type": "execute_result",
          "data": {
            "text/plain": [
              "array([0.58185033, 0.41436859, 0.4746975 ])"
            ]
          },
          "metadata": {
            "tags": []
          },
          "execution_count": 148
        }
      ]
    },
    {
      "cell_type": "code",
      "metadata": {
        "id": "Xgn1WKcLNARg",
        "outputId": "33cf504a-5687-4986-8275-be92808b80f5"
      },
      "source": [
        "# min value along each row\n",
        "np.min(x16, axis=1)"
      ],
      "execution_count": null,
      "outputs": [
        {
          "output_type": "execute_result",
          "data": {
            "text/plain": [
              "array([0.63505887, 0.41436859])"
            ]
          },
          "metadata": {
            "tags": []
          },
          "execution_count": 149
        }
      ]
    },
    {
      "cell_type": "code",
      "metadata": {
        "id": "royVyrSLNARh",
        "outputId": "37d5e448-8e59-4fdd-e0de-b8a48105bbe8"
      },
      "source": [
        "# Some important functios\n",
        "np.mean, np.std, np.percentile, np.median"
      ],
      "execution_count": null,
      "outputs": [
        {
          "output_type": "execute_result",
          "data": {
            "text/plain": [
              "(<function numpy.mean(a, axis=None, dtype=None, out=None, keepdims=<no value>)>,\n",
              " <function numpy.std(a, axis=None, dtype=None, out=None, ddof=0, keepdims=<no value>)>,\n",
              " <function numpy.percentile(a, q, axis=None, out=None, overwrite_input=False, interpolation='linear', keepdims=False)>,\n",
              " <function numpy.median(a, axis=None, out=None, overwrite_input=False, keepdims=False)>)"
            ]
          },
          "metadata": {
            "tags": []
          },
          "execution_count": 150
        }
      ]
    },
    {
      "cell_type": "markdown",
      "metadata": {
        "id": "JNx2x2f4NARh"
      },
      "source": [
        "## Broadcasting"
      ]
    },
    {
      "cell_type": "code",
      "metadata": {
        "id": "DgTOsbGINARh",
        "outputId": "171b5710-dd51-4e00-e1e9-6e424f0c73aa"
      },
      "source": [
        "#Recall that for arrays of the same size, binary operations are performed on an element-by-element basis.\n",
        "#Broadcasting allows these types of binary operations to be performed on arrays of different sizes\n",
        "\n",
        "x17 = np.array([3,3,3,3,3])\n",
        "x17 + 1"
      ],
      "execution_count": null,
      "outputs": [
        {
          "output_type": "execute_result",
          "data": {
            "text/plain": [
              "array([4, 4, 4, 4, 4])"
            ]
          },
          "metadata": {
            "tags": []
          },
          "execution_count": 151
        }
      ]
    },
    {
      "cell_type": "code",
      "metadata": {
        "id": "Dkh1ewg0NARi",
        "outputId": "42778cbd-bbad-4a52-965c-ab71fd047c27"
      },
      "source": [
        "x18 = np.ones((3,3))\n",
        "x18 + 1\n",
        "#Here 1-D array is stretched, or broadcast, across the second dimension in order to match the shape of x18."
      ],
      "execution_count": null,
      "outputs": [
        {
          "output_type": "execute_result",
          "data": {
            "text/plain": [
              "array([[2., 2., 2.],\n",
              "       [2., 2., 2.],\n",
              "       [2., 2., 2.]])"
            ]
          },
          "metadata": {
            "tags": []
          },
          "execution_count": 152
        }
      ]
    },
    {
      "cell_type": "code",
      "metadata": {
        "id": "27y-6Pg9NARi",
        "outputId": "059bc128-c6f5-4390-892f-c0662188a38d"
      },
      "source": [
        "x19 = np.arange(3)\n",
        "x20 = np.arange(3)[:,np.newaxis]\n",
        "x19, x20"
      ],
      "execution_count": null,
      "outputs": [
        {
          "output_type": "execute_result",
          "data": {
            "text/plain": [
              "(array([0, 1, 2]),\n",
              " array([[0],\n",
              "        [1],\n",
              "        [2]]))"
            ]
          },
          "metadata": {
            "tags": []
          },
          "execution_count": 153
        }
      ]
    },
    {
      "cell_type": "code",
      "metadata": {
        "id": "BGMbCZCuNARj",
        "outputId": "1ca8ca08-f5ac-43f9-f6a4-9cbb7f8056a4"
      },
      "source": [
        "x18.shape, x19.shape, x20.shape"
      ],
      "execution_count": null,
      "outputs": [
        {
          "output_type": "execute_result",
          "data": {
            "text/plain": [
              "((3, 3), (3,), (3, 1))"
            ]
          },
          "metadata": {
            "tags": []
          },
          "execution_count": 154
        }
      ]
    },
    {
      "cell_type": "code",
      "metadata": {
        "id": "1fULYHe2NARj",
        "outputId": "7218d737-8208-4693-81d7-9257750da543"
      },
      "source": [
        "x19 + x20"
      ],
      "execution_count": null,
      "outputs": [
        {
          "output_type": "execute_result",
          "data": {
            "text/plain": [
              "array([[0, 1, 2],\n",
              "       [1, 2, 3],\n",
              "       [2, 3, 4]])"
            ]
          },
          "metadata": {
            "tags": []
          },
          "execution_count": 155
        }
      ]
    },
    {
      "cell_type": "code",
      "metadata": {
        "id": "auGkIPfNNARk",
        "outputId": "8ef49b94-fef1-47ea-d0b7-a220df6500ab"
      },
      "source": [
        "x18 + x19"
      ],
      "execution_count": null,
      "outputs": [
        {
          "output_type": "execute_result",
          "data": {
            "text/plain": [
              "array([[1., 2., 3.],\n",
              "       [1., 2., 3.],\n",
              "       [1., 2., 3.]])"
            ]
          },
          "metadata": {
            "tags": []
          },
          "execution_count": 156
        }
      ]
    },
    {
      "cell_type": "code",
      "metadata": {
        "id": "FkPDavLGNARm",
        "outputId": "ad9fdf95-16b5-4d91-fcde-b477db64e76b"
      },
      "source": [
        "x18 + x20"
      ],
      "execution_count": null,
      "outputs": [
        {
          "output_type": "execute_result",
          "data": {
            "text/plain": [
              "array([[1., 1., 1.],\n",
              "       [2., 2., 2.],\n",
              "       [3., 3., 3.]])"
            ]
          },
          "metadata": {
            "tags": []
          },
          "execution_count": 157
        }
      ]
    },
    {
      "cell_type": "code",
      "metadata": {
        "id": "hZ-D_KEyNARq",
        "outputId": "63f44539-7acc-458b-a169-0a320f73353d"
      },
      "source": [
        "x21 = np.ones((2,3))\n",
        "x21 , x21.shape"
      ],
      "execution_count": null,
      "outputs": [
        {
          "output_type": "execute_result",
          "data": {
            "text/plain": [
              "(array([[1., 1., 1.],\n",
              "        [1., 1., 1.]]),\n",
              " (2, 3))"
            ]
          },
          "metadata": {
            "tags": []
          },
          "execution_count": 158
        }
      ]
    },
    {
      "cell_type": "code",
      "metadata": {
        "id": "rMOrLhZwNARr",
        "outputId": "77c8540d-4878-49f2-ea42-452f3a5942cb"
      },
      "source": [
        "# (2,3) & (3,3)\n",
        "x21 + x18"
      ],
      "execution_count": null,
      "outputs": [
        {
          "output_type": "error",
          "ename": "ValueError",
          "evalue": "operands could not be broadcast together with shapes (2,3) (3,3) ",
          "traceback": [
            "\u001b[1;31m---------------------------------------------------------------------------\u001b[0m",
            "\u001b[1;31mValueError\u001b[0m                                Traceback (most recent call last)",
            "\u001b[1;32m<ipython-input-159-8a562500ab65>\u001b[0m in \u001b[0;36m<module>\u001b[1;34m\u001b[0m\n\u001b[0;32m      1\u001b[0m \u001b[1;31m# (2,3) & (3,3)\u001b[0m\u001b[1;33m\u001b[0m\u001b[1;33m\u001b[0m\u001b[1;33m\u001b[0m\u001b[0m\n\u001b[1;32m----> 2\u001b[1;33m \u001b[0mx21\u001b[0m \u001b[1;33m+\u001b[0m \u001b[0mx18\u001b[0m\u001b[1;33m\u001b[0m\u001b[1;33m\u001b[0m\u001b[0m\n\u001b[0m",
            "\u001b[1;31mValueError\u001b[0m: operands could not be broadcast together with shapes (2,3) (3,3) "
          ]
        }
      ]
    },
    {
      "cell_type": "code",
      "metadata": {
        "id": "fHr_1oYYNARs"
      },
      "source": [
        "# (2,3) & (3,)\n",
        "x21 + x19"
      ],
      "execution_count": null,
      "outputs": []
    },
    {
      "cell_type": "code",
      "metadata": {
        "id": "LQ9-nmp4NARs"
      },
      "source": [
        "# (2,3) & (3,1)\n",
        "x21 + x20"
      ],
      "execution_count": null,
      "outputs": []
    },
    {
      "cell_type": "markdown",
      "metadata": {
        "id": "ie4ykWQeNARs"
      },
      "source": [
        "#### <font color = 'Red'>Centering an array"
      ]
    },
    {
      "cell_type": "code",
      "metadata": {
        "id": "QcH7fHx2NARt"
      },
      "source": [
        ""
      ],
      "execution_count": null,
      "outputs": []
    },
    {
      "cell_type": "markdown",
      "metadata": {
        "id": "9QuMEmBXNARt"
      },
      "source": [
        "#### <font color = 'Red'> Plotting a two-dimensional function"
      ]
    },
    {
      "cell_type": "code",
      "metadata": {
        "id": "fgBzJrCXNARu"
      },
      "source": [
        ""
      ],
      "execution_count": null,
      "outputs": []
    },
    {
      "cell_type": "markdown",
      "metadata": {
        "id": "ZFeDlQkLNARv"
      },
      "source": [
        "## Comparisons, Masks, and Boolean Logic"
      ]
    },
    {
      "cell_type": "code",
      "metadata": {
        "id": "nBRwR-YTNARv"
      },
      "source": [
        "x21 = np.array([1,2,3,4,5,6,7,8,9])"
      ],
      "execution_count": null,
      "outputs": []
    },
    {
      "cell_type": "code",
      "metadata": {
        "id": "q-cGLq6RNARw",
        "outputId": "e93f131e-7951-4c50-9342-1174fa761bb1"
      },
      "source": [
        "x21 > 3"
      ],
      "execution_count": null,
      "outputs": [
        {
          "output_type": "execute_result",
          "data": {
            "text/plain": [
              "array([False, False, False,  True,  True,  True,  True,  True,  True])"
            ]
          },
          "metadata": {
            "tags": []
          },
          "execution_count": 161
        }
      ]
    },
    {
      "cell_type": "code",
      "metadata": {
        "id": "3isIrtEdNARw",
        "outputId": "a8dabc04-ee82-4934-a81b-556905624389"
      },
      "source": [
        "x21 <= 3"
      ],
      "execution_count": null,
      "outputs": [
        {
          "output_type": "execute_result",
          "data": {
            "text/plain": [
              "array([ True,  True,  True, False, False, False, False, False, False])"
            ]
          },
          "metadata": {
            "tags": []
          },
          "execution_count": 162
        }
      ]
    },
    {
      "cell_type": "code",
      "metadata": {
        "id": "X4Za34B_NARx",
        "outputId": "765cc9a5-41c1-4ada-ac8f-f60bd54d7315"
      },
      "source": [
        "x21 == 3"
      ],
      "execution_count": null,
      "outputs": [
        {
          "output_type": "execute_result",
          "data": {
            "text/plain": [
              "array([False, False,  True, False, False, False, False, False, False])"
            ]
          },
          "metadata": {
            "tags": []
          },
          "execution_count": 163
        }
      ]
    },
    {
      "cell_type": "code",
      "metadata": {
        "id": "wLe70sjGNARx",
        "outputId": "9c918f28-30c9-4e3f-d734-f6eb981068fc"
      },
      "source": [
        "# element-by-element comparison of two arrays, and to include compound expressions.\n",
        "(2 * x21) == (x21 **2)"
      ],
      "execution_count": null,
      "outputs": [
        {
          "output_type": "execute_result",
          "data": {
            "text/plain": [
              "array([False,  True, False, False, False, False, False, False, False])"
            ]
          },
          "metadata": {
            "tags": []
          },
          "execution_count": 164
        }
      ]
    },
    {
      "cell_type": "code",
      "metadata": {
        "id": "nvJ5A9MoNARy",
        "outputId": "dcb86728-9a3d-4887-9664-c36aa079e5e9"
      },
      "source": [
        "# 2-D array\n",
        "rng = np.random.RandomState(0)\n",
        "x22 = rng.randint(10, size=(3,4))\n",
        "x22"
      ],
      "execution_count": null,
      "outputs": [
        {
          "output_type": "execute_result",
          "data": {
            "text/plain": [
              "array([[5, 0, 3, 3],\n",
              "       [7, 9, 3, 5],\n",
              "       [2, 4, 7, 6]])"
            ]
          },
          "metadata": {
            "tags": []
          },
          "execution_count": 165
        }
      ]
    },
    {
      "cell_type": "code",
      "metadata": {
        "id": "2_jo_SK5NARy",
        "outputId": "4e542301-b10a-404e-b9f7-cda8e24dc1c1"
      },
      "source": [
        "x22 < 6"
      ],
      "execution_count": null,
      "outputs": [
        {
          "output_type": "execute_result",
          "data": {
            "text/plain": [
              "array([[ True,  True,  True,  True],\n",
              "       [False, False,  True,  True],\n",
              "       [ True,  True, False, False]])"
            ]
          },
          "metadata": {
            "tags": []
          },
          "execution_count": 166
        }
      ]
    },
    {
      "cell_type": "code",
      "metadata": {
        "id": "x15HAWMRNARy",
        "outputId": "f85564a8-2555-4bf2-8321-d9eafcb43c91"
      },
      "source": [
        "# How many values less than 6\n",
        "np.count_nonzero(x22 < 6)"
      ],
      "execution_count": null,
      "outputs": [
        {
          "output_type": "execute_result",
          "data": {
            "text/plain": [
              "8"
            ]
          },
          "metadata": {
            "tags": []
          },
          "execution_count": 167
        }
      ]
    },
    {
      "cell_type": "code",
      "metadata": {
        "id": "uUXhuZalNARz",
        "outputId": "031ef541-07f4-4d99-eb13-731ced22694f"
      },
      "source": [
        "# In this case, False is interpreted as 0, and True is interpreted as 1.\n",
        "np.sum(x22 < 6)"
      ],
      "execution_count": null,
      "outputs": [
        {
          "output_type": "execute_result",
          "data": {
            "text/plain": [
              "8"
            ]
          },
          "metadata": {
            "tags": []
          },
          "execution_count": 168
        }
      ]
    },
    {
      "cell_type": "code",
      "metadata": {
        "id": "cg_lXOPzNAR0",
        "outputId": "70ee3ece-f89e-4168-81d7-bf9733f7c117"
      },
      "source": [
        "# This counts the number of values less than 6 in each row of the matrix.\n",
        "np.sum(x22 < 6, axis = 1)"
      ],
      "execution_count": null,
      "outputs": [
        {
          "output_type": "execute_result",
          "data": {
            "text/plain": [
              "array([4, 2, 2])"
            ]
          },
          "metadata": {
            "tags": []
          },
          "execution_count": 169
        }
      ]
    },
    {
      "cell_type": "code",
      "metadata": {
        "id": "dtYyohmvNAR0",
        "outputId": "a3002528-8e4d-4ed0-9048-353997d8d26a"
      },
      "source": [
        "# are there any values greater than 8?\n",
        "np.any(x22 > 8)"
      ],
      "execution_count": null,
      "outputs": [
        {
          "output_type": "execute_result",
          "data": {
            "text/plain": [
              "True"
            ]
          },
          "metadata": {
            "tags": []
          },
          "execution_count": 170
        }
      ]
    },
    {
      "cell_type": "code",
      "metadata": {
        "id": "fGzswAqWNAR2",
        "outputId": "60634dc8-03a5-4a80-ddc3-dff472045101"
      },
      "source": [
        "# are all values less than 7?\n",
        "np.all(x22 > 7)"
      ],
      "execution_count": null,
      "outputs": [
        {
          "output_type": "execute_result",
          "data": {
            "text/plain": [
              "False"
            ]
          },
          "metadata": {
            "tags": []
          },
          "execution_count": 171
        }
      ]
    },
    {
      "cell_type": "code",
      "metadata": {
        "id": "6qczbkc2NAR3",
        "outputId": "1d44462e-17b2-4e93-9e57-de3c5b1aa3b3"
      },
      "source": [
        "# are all values in each row less than 4?\n",
        "np.all(x22 < 4, axis = 1)"
      ],
      "execution_count": null,
      "outputs": [
        {
          "output_type": "execute_result",
          "data": {
            "text/plain": [
              "array([False, False, False])"
            ]
          },
          "metadata": {
            "tags": []
          },
          "execution_count": 172
        }
      ]
    },
    {
      "cell_type": "code",
      "metadata": {
        "id": "7ZGCjz_GNAR7",
        "outputId": "5421c284-d7f5-4115-f7ef-267b39117ad1"
      },
      "source": [
        "# any values in each row less than 4?\n",
        "np.any(x22 < 4, axis = 1)"
      ],
      "execution_count": null,
      "outputs": [
        {
          "output_type": "execute_result",
          "data": {
            "text/plain": [
              "array([ True,  True,  True])"
            ]
          },
          "metadata": {
            "tags": []
          },
          "execution_count": 173
        }
      ]
    },
    {
      "cell_type": "code",
      "metadata": {
        "id": "Ce1iotG2NAR7",
        "outputId": "7dfe3b22-9837-430f-a96a-e739d6e3a60b"
      },
      "source": [
        "# compound questions\n",
        "np.sum((x22 > 3) & (x22 <6))"
      ],
      "execution_count": null,
      "outputs": [
        {
          "output_type": "execute_result",
          "data": {
            "text/plain": [
              "3"
            ]
          },
          "metadata": {
            "tags": []
          },
          "execution_count": 174
        }
      ]
    },
    {
      "cell_type": "code",
      "metadata": {
        "id": "u57FQtacNAR8",
        "outputId": "99fb4fb7-af68-4dd0-ed2c-1b62476d99ba"
      },
      "source": [
        "# Maskig which produces 1-D array\n",
        "x23 = x22[x22 < 6]\n",
        "x23"
      ],
      "execution_count": null,
      "outputs": [
        {
          "output_type": "execute_result",
          "data": {
            "text/plain": [
              "array([5, 0, 3, 3, 3, 5, 2, 4])"
            ]
          },
          "metadata": {
            "tags": []
          },
          "execution_count": 175
        }
      ]
    },
    {
      "cell_type": "code",
      "metadata": {
        "id": "uuaHGYLTNAR9",
        "outputId": "82ad3130-2fb1-4ff9-f113-d61210c2e653"
      },
      "source": [
        "# Running operations on the masked array\n",
        "np.sum(x23), np.min(x23), np.median(x23) "
      ],
      "execution_count": null,
      "outputs": [
        {
          "output_type": "execute_result",
          "data": {
            "text/plain": [
              "(25, 0, 3.0)"
            ]
          },
          "metadata": {
            "tags": []
          },
          "execution_count": 176
        }
      ]
    },
    {
      "cell_type": "code",
      "metadata": {
        "id": "buElfl2LNAR-",
        "outputId": "ed7bf2bf-0595-44d6-bc44-eb37479677e0"
      },
      "source": [
        "# Using AND OR vs. & |\n",
        "x24 = np.array([1, 0, 1, 0, 1, 0], dtype = bool)\n",
        "x25 = np.array([1, 1, 1, 0, 1, 1], dtype = bool)\n",
        "x24 | x25"
      ],
      "execution_count": null,
      "outputs": [
        {
          "output_type": "execute_result",
          "data": {
            "text/plain": [
              "array([ True,  True,  True, False,  True,  True])"
            ]
          },
          "metadata": {
            "tags": []
          },
          "execution_count": 177
        }
      ]
    },
    {
      "cell_type": "code",
      "metadata": {
        "id": "Cnk4iHBMNAR_",
        "outputId": "1a7dde51-d360-4b79-f743-8eed25a23225"
      },
      "source": [
        "# Using or on these arrays will try to evaluate the truth or falsehood of the entire array object, \n",
        "# which is not a well-defined value.\n",
        "x24 OR x25"
      ],
      "execution_count": null,
      "outputs": [
        {
          "output_type": "error",
          "ename": "SyntaxError",
          "evalue": "invalid syntax (<ipython-input-178-900cf7e4c21f>, line 3)",
          "traceback": [
            "\u001b[1;36m  File \u001b[1;32m\"<ipython-input-178-900cf7e4c21f>\"\u001b[1;36m, line \u001b[1;32m3\u001b[0m\n\u001b[1;33m    x24 OR x25\u001b[0m\n\u001b[1;37m         ^\u001b[0m\n\u001b[1;31mSyntaxError\u001b[0m\u001b[1;31m:\u001b[0m invalid syntax\n"
          ]
        }
      ]
    },
    {
      "cell_type": "markdown",
      "metadata": {
        "id": "bKKhtKlxNASA"
      },
      "source": [
        "## Fancy Indexing"
      ]
    },
    {
      "cell_type": "code",
      "metadata": {
        "id": "kmvTiSRCNASA"
      },
      "source": [
        "x26 = np.array([51,92,14,71,60,20,82,86,74,74])"
      ],
      "execution_count": null,
      "outputs": []
    },
    {
      "cell_type": "code",
      "metadata": {
        "id": "XvJs8ubRNASA",
        "outputId": "9882427b-f60c-4dcf-831a-bdc3f7607cf1"
      },
      "source": [
        "[x26[3],x26[4], x26[7]] "
      ],
      "execution_count": null,
      "outputs": [
        {
          "output_type": "execute_result",
          "data": {
            "text/plain": [
              "[71, 60, 86]"
            ]
          },
          "metadata": {
            "tags": []
          },
          "execution_count": 180
        }
      ]
    },
    {
      "cell_type": "code",
      "metadata": {
        "id": "T-SxMw3ENASA",
        "outputId": "4d083980-6cf6-4109-c2aa-ada0f0fc1129"
      },
      "source": [
        "ind = [3, 4, 7]\n",
        "x26[ind]"
      ],
      "execution_count": null,
      "outputs": [
        {
          "output_type": "execute_result",
          "data": {
            "text/plain": [
              "array([71, 60, 86])"
            ]
          },
          "metadata": {
            "tags": []
          },
          "execution_count": 181
        }
      ]
    },
    {
      "cell_type": "code",
      "metadata": {
        "id": "HE5mSB1tNASB",
        "outputId": "d8543651-ee16-43bc-94ab-3d71c8c547be"
      },
      "source": [
        "# With fancy indexing, the shape of the result reflects the shape of the index arrays,\n",
        "# rather than the shape of the array being indexed.\n",
        "ind2 = np.array([[2,4],[5,7]])\n",
        "x26[ind2]"
      ],
      "execution_count": null,
      "outputs": [
        {
          "output_type": "execute_result",
          "data": {
            "text/plain": [
              "array([[14, 60],\n",
              "       [20, 86]])"
            ]
          },
          "metadata": {
            "tags": []
          },
          "execution_count": 182
        }
      ]
    },
    {
      "cell_type": "code",
      "metadata": {
        "id": "0rTkDqeNNASC",
        "outputId": "78695d80-6f94-457c-c493-99ed89b2ab7a"
      },
      "source": [
        "# Fancy indexing also works in multiple dimensions.\n",
        "x27 = np.arange(12).reshape((3,4))\n",
        "x27"
      ],
      "execution_count": null,
      "outputs": [
        {
          "output_type": "execute_result",
          "data": {
            "text/plain": [
              "array([[ 0,  1,  2,  3],\n",
              "       [ 4,  5,  6,  7],\n",
              "       [ 8,  9, 10, 11]])"
            ]
          },
          "metadata": {
            "tags": []
          },
          "execution_count": 183
        }
      ]
    },
    {
      "cell_type": "code",
      "metadata": {
        "id": "L44efArONASC",
        "outputId": "da9bdbd5-0efb-4ccb-e286-3aea00393ee7"
      },
      "source": [
        "row = np.array([0,1,2])\n",
        "col = np.array([3,2,1])\n",
        "x27[row,col]\n",
        "# Notice that the first value in the result is X[0, 3], the second is X[1, 2], and the third is X[2, 1]."
      ],
      "execution_count": null,
      "outputs": [
        {
          "output_type": "execute_result",
          "data": {
            "text/plain": [
              "array([3, 6, 9])"
            ]
          },
          "metadata": {
            "tags": []
          },
          "execution_count": 184
        }
      ]
    },
    {
      "cell_type": "code",
      "metadata": {
        "id": "kNM24ey8NASC",
        "outputId": "c81bc1d8-8dda-41ec-b14d-ca79dee926c6"
      },
      "source": [
        "row2 = row[:, np.newaxis]\n",
        "row2"
      ],
      "execution_count": null,
      "outputs": [
        {
          "output_type": "execute_result",
          "data": {
            "text/plain": [
              "array([[0],\n",
              "       [1],\n",
              "       [2]])"
            ]
          },
          "metadata": {
            "tags": []
          },
          "execution_count": 185
        }
      ]
    },
    {
      "cell_type": "code",
      "metadata": {
        "id": "flKAuLbzNASD",
        "outputId": "ee548ae7-f62a-4e29-d553-564a528f7c79"
      },
      "source": [
        "x27[row2,col]"
      ],
      "execution_count": null,
      "outputs": [
        {
          "output_type": "execute_result",
          "data": {
            "text/plain": [
              "array([[ 3,  2,  1],\n",
              "       [ 7,  6,  5],\n",
              "       [11, 10,  9]])"
            ]
          },
          "metadata": {
            "tags": []
          },
          "execution_count": 186
        }
      ]
    },
    {
      "cell_type": "code",
      "metadata": {
        "id": "J5ReLXunNASD",
        "outputId": "e9507f77-51d6-4b6e-c9ae-5b6fe8bc8f11"
      },
      "source": [
        "# Similarly performing arithmetic operations\n",
        "row2 * col"
      ],
      "execution_count": null,
      "outputs": [
        {
          "output_type": "execute_result",
          "data": {
            "text/plain": [
              "array([[0, 0, 0],\n",
              "       [3, 2, 1],\n",
              "       [6, 4, 2]])"
            ]
          },
          "metadata": {
            "tags": []
          },
          "execution_count": 187
        }
      ]
    },
    {
      "cell_type": "code",
      "metadata": {
        "id": "P11CeptrNASE",
        "outputId": "e9b37524-0cf0-451f-d523-71bf64c8f9a9"
      },
      "source": [
        "# Combined Indexing. \n",
        "x27"
      ],
      "execution_count": null,
      "outputs": [
        {
          "output_type": "execute_result",
          "data": {
            "text/plain": [
              "array([[ 0,  1,  2,  3],\n",
              "       [ 4,  5,  6,  7],\n",
              "       [ 8,  9, 10, 11]])"
            ]
          },
          "metadata": {
            "tags": []
          },
          "execution_count": 188
        }
      ]
    },
    {
      "cell_type": "code",
      "metadata": {
        "id": "UflcCFCfNASE",
        "outputId": "9e3ee7f3-c023-4601-f003-a40453b6e964"
      },
      "source": [
        "# [2] is for row, while [2,0,1] for cols.\n",
        "x27[2,[2,0,1]]"
      ],
      "execution_count": null,
      "outputs": [
        {
          "output_type": "execute_result",
          "data": {
            "text/plain": [
              "array([10,  8,  9])"
            ]
          },
          "metadata": {
            "tags": []
          },
          "execution_count": 189
        }
      ]
    },
    {
      "cell_type": "code",
      "metadata": {
        "id": "hDytjBwtNASE",
        "outputId": "a1b8f5fb-d453-483f-a031-776b224fefbf"
      },
      "source": [
        "x27[1:,[2,0,1]]"
      ],
      "execution_count": null,
      "outputs": [
        {
          "output_type": "execute_result",
          "data": {
            "text/plain": [
              "array([[ 6,  4,  5],\n",
              "       [10,  8,  9]])"
            ]
          },
          "metadata": {
            "tags": []
          },
          "execution_count": 190
        }
      ]
    },
    {
      "cell_type": "code",
      "metadata": {
        "id": "kh6o5l9MNASF",
        "outputId": "89789449-9e7b-4e9a-e9cc-5b6f306dfecd"
      },
      "source": [
        "x27, row2, np.array([1,0,1,0], dtype=bool)"
      ],
      "execution_count": null,
      "outputs": [
        {
          "output_type": "execute_result",
          "data": {
            "text/plain": [
              "(array([[ 0,  1,  2,  3],\n",
              "        [ 4,  5,  6,  7],\n",
              "        [ 8,  9, 10, 11]]),\n",
              " array([[0],\n",
              "        [1],\n",
              "        [2]]),\n",
              " array([ True, False,  True, False]))"
            ]
          },
          "metadata": {
            "tags": []
          },
          "execution_count": 191
        }
      ]
    },
    {
      "cell_type": "code",
      "metadata": {
        "id": "aTbbkrN4NASF"
      },
      "source": [
        "mask =np.array([1,0,1,0], dtype=bool)"
      ],
      "execution_count": null,
      "outputs": []
    },
    {
      "cell_type": "code",
      "metadata": {
        "id": "YF7JBAj3NASI",
        "outputId": "5d33afe7-b492-44fb-ec4f-15e729bbd01e"
      },
      "source": [
        "x27[row2,mask]"
      ],
      "execution_count": null,
      "outputs": [
        {
          "output_type": "execute_result",
          "data": {
            "text/plain": [
              "array([[ 0,  2],\n",
              "       [ 4,  6],\n",
              "       [ 8, 10]])"
            ]
          },
          "metadata": {
            "tags": []
          },
          "execution_count": 193
        }
      ]
    },
    {
      "cell_type": "markdown",
      "metadata": {
        "id": "hwSZ-sRXNASK"
      },
      "source": [
        "#### <font color = 'Red'>Selecting Random Points"
      ]
    },
    {
      "cell_type": "code",
      "metadata": {
        "id": "gNr9MsjBNASK"
      },
      "source": [
        ""
      ],
      "execution_count": null,
      "outputs": []
    },
    {
      "cell_type": "code",
      "metadata": {
        "id": "RcgFn-oTNASK",
        "outputId": "d4c12b03-9eb7-42fb-ce7f-5fc8c2659ed9"
      },
      "source": [
        "# Modifying Values with Fancy Indexing\n",
        "x28 = np.arange(10)\n",
        "x29 = np.array([2,1,8,4])\n",
        "print(x28)\n",
        "print(x29)"
      ],
      "execution_count": null,
      "outputs": [
        {
          "output_type": "stream",
          "text": [
            "[0 1 2 3 4 5 6 7 8 9]\n",
            "[2 1 8 4]\n"
          ],
          "name": "stdout"
        }
      ]
    },
    {
      "cell_type": "code",
      "metadata": {
        "id": "Qg4un1rUNASL",
        "outputId": "86167b40-1489-4f06-b59b-0422457aa0dc"
      },
      "source": [
        "x28[x29]=99\n",
        "print(x28)"
      ],
      "execution_count": null,
      "outputs": [
        {
          "output_type": "stream",
          "text": [
            "[ 0 99 99  3 99  5  6  7 99  9]\n"
          ],
          "name": "stdout"
        }
      ]
    },
    {
      "cell_type": "code",
      "metadata": {
        "id": "87Y4ONRwNASM",
        "outputId": "1279115f-b287-4b46-92fe-540a2813ebd2"
      },
      "source": [
        "# subtracting 10 \n",
        "x28[x29] -= 10\n",
        "# it is a short hand for x28[x29] = x28[x29] - 10\n",
        "print(x28)"
      ],
      "execution_count": null,
      "outputs": [
        {
          "output_type": "stream",
          "text": [
            "[ 0 89 89  3 89  5  6  7 89  9]\n"
          ],
          "name": "stdout"
        }
      ]
    },
    {
      "cell_type": "code",
      "metadata": {
        "id": "byuUKCD2NASM",
        "outputId": "2bb25c3b-a49b-4e65-dd16-66a96c84ccc7"
      },
      "source": [
        "x30 = np.zeros(10)\n",
        "print(x30)\n",
        "x30[[0,1]] = [4,6]\n",
        "print(x30)\n",
        "x30[[0,0]] = [77,88]\n",
        "# First assigned 77 and then 88\n",
        "print(x30)"
      ],
      "execution_count": null,
      "outputs": [
        {
          "output_type": "stream",
          "text": [
            "[0. 0. 0. 0. 0. 0. 0. 0. 0. 0.]\n",
            "[4. 6. 0. 0. 0. 0. 0. 0. 0. 0.]\n",
            "[88.  6.  0.  0.  0.  0.  0.  0.  0.  0.]\n"
          ],
          "name": "stdout"
        }
      ]
    },
    {
      "cell_type": "markdown",
      "metadata": {
        "id": "uiP6tKlsNASM"
      },
      "source": [
        "#### <font color = 'Red'>Example: Binning Data"
      ]
    },
    {
      "cell_type": "markdown",
      "metadata": {
        "id": "xPgSbZHINASN"
      },
      "source": [
        "### Fast Sorting in NumPy:"
      ]
    },
    {
      "cell_type": "code",
      "metadata": {
        "id": "7R463WzZNASN",
        "outputId": "1ded8532-0ccf-42a0-ae60-73c61396910a"
      },
      "source": [
        "x31 = np.array([2, 1, 4, 3, 5])\n",
        "print(x31)\n",
        "# Sorting without modifying the input\n",
        "print(np.sort(x31))\n",
        "# Sorting the array in place\n",
        "x31.sort()\n",
        "print(x31)"
      ],
      "execution_count": null,
      "outputs": [
        {
          "output_type": "stream",
          "text": [
            "[2 1 4 3 5]\n",
            "[1 2 3 4 5]\n",
            "[1 2 3 4 5]\n"
          ],
          "name": "stdout"
        }
      ]
    },
    {
      "cell_type": "code",
      "metadata": {
        "id": "N4VC9gNyNASP",
        "outputId": "20c18f5e-4c66-484a-82a6-0e89e965990c"
      },
      "source": [
        "x32 = np.array([3,1,6,2,7,9])\n",
        "# returning the indices of the sorted elements  \n",
        "print(x32)\n",
        "print(np.argsort(x32))"
      ],
      "execution_count": null,
      "outputs": [
        {
          "output_type": "stream",
          "text": [
            "[3 1 6 2 7 9]\n",
            "[1 3 0 2 4 5]\n"
          ],
          "name": "stdout"
        }
      ]
    },
    {
      "cell_type": "code",
      "metadata": {
        "id": "DQ4DMKMhNASP",
        "outputId": "c745f38c-3e58-4d1a-f1f8-0f24011bb0c1"
      },
      "source": [
        "rand2 = np.random.RandomState(42)\n",
        "x33 = rand2.randint(0, 10, (4, 6))\n",
        "print(x33)\n",
        "\n",
        "# Sorting each column\n",
        "print(np.sort(x33, axis = 0))\n",
        "\n",
        "# Sorting each row\n",
        "print(np.sort(x33, axis = 1))"
      ],
      "execution_count": null,
      "outputs": [
        {
          "output_type": "stream",
          "text": [
            "[[6 3 7 4 6 9]\n",
            " [2 6 7 4 3 7]\n",
            " [7 2 5 4 1 7]\n",
            " [5 1 4 0 9 5]]\n",
            "[[2 1 4 0 1 5]\n",
            " [5 2 5 4 3 7]\n",
            " [6 3 7 4 6 7]\n",
            " [7 6 7 4 9 9]]\n",
            "[[3 4 6 6 7 9]\n",
            " [2 3 4 6 7 7]\n",
            " [1 2 4 5 7 7]\n",
            " [0 1 4 5 5 9]]\n"
          ],
          "name": "stdout"
        }
      ]
    },
    {
      "cell_type": "code",
      "metadata": {
        "id": "w38JCtfyNASQ",
        "outputId": "9092c007-54e2-4fb7-dc05-e760cd883f3c"
      },
      "source": [
        "# np.partition takes an array and a number K; the result is a new array.\n",
        "x34 = np.array([2,4,1,5,7,3,3,39])\n",
        "np.partition(x34, 3)\n",
        "# Within the two partitions, the elements have arbitrary order"
      ],
      "execution_count": null,
      "outputs": [
        {
          "output_type": "execute_result",
          "data": {
            "text/plain": [
              "array([ 2,  1,  3,  3,  4,  5,  7, 39])"
            ]
          },
          "metadata": {
            "tags": []
          },
          "execution_count": 201
        }
      ]
    },
    {
      "cell_type": "code",
      "metadata": {
        "id": "a3Zzn6egNASR",
        "outputId": "600d55e9-8858-4277-cfa8-acba59ef8f7c"
      },
      "source": [
        "np.partition(x33, 2, axis =1)\n",
        "# first two slots in each row contain the smallest values from that row"
      ],
      "execution_count": null,
      "outputs": [
        {
          "output_type": "execute_result",
          "data": {
            "text/plain": [
              "array([[3, 4, 6, 7, 6, 9],\n",
              "       [2, 3, 4, 7, 6, 7],\n",
              "       [1, 2, 4, 5, 7, 7],\n",
              "       [0, 1, 4, 5, 9, 5]])"
            ]
          },
          "metadata": {
            "tags": []
          },
          "execution_count": 202
        }
      ]
    },
    {
      "cell_type": "markdown",
      "metadata": {
        "id": "zyZrV3kYNASR"
      },
      "source": [
        "#### <font color = 'Red'>k-Nearest Neighbors"
      ]
    },
    {
      "cell_type": "markdown",
      "metadata": {
        "id": "IgoD8PPzNASS"
      },
      "source": [
        "### NumPy’s Structured Arrays"
      ]
    },
    {
      "cell_type": "code",
      "metadata": {
        "id": "5mF1NZuZNASS"
      },
      "source": [
        "name = ['Alice', 'Bob', 'Cathy', 'Doug']\n",
        "age = [25, 45, 37, 19]\n",
        "weight = [55.0, 85.5, 68.0, 61.5]\n",
        "# Nothing tells us that it is related. How can we use single structure to store all this data."
      ],
      "execution_count": null,
      "outputs": []
    },
    {
      "cell_type": "code",
      "metadata": {
        "id": "VwfBFxzaNASS",
        "outputId": "2659f36e-3e95-40f7-bc93-0d13a7660299"
      },
      "source": [
        "# Use a compound data type for structured arrays. We will creat an empty container array,\n",
        "data = np.zeros(4, dtype ={ 'names': ('name', 'age', 'weight'), 'formats':('U10', 'i4', 'f8')})\n",
        "print(data.dtype)\n",
        "# 'U10' translates to “Unicode string of maximum length 10,” \n",
        "# 'i4' translates to “4-byte (i.e., 32 bit) integer,” \n",
        "# 'f8' translates to “8-byte (i.e., 64 bit) float.”"
      ],
      "execution_count": null,
      "outputs": [
        {
          "output_type": "stream",
          "text": [
            "[('name', '<U10'), ('age', '<i4'), ('weight', '<f8')]\n"
          ],
          "name": "stdout"
        }
      ]
    },
    {
      "cell_type": "code",
      "metadata": {
        "id": "qdG0Z3mvNAST",
        "outputId": "6bd33470-1dd6-4c77-f6d3-4e8cd2db3ffa"
      },
      "source": [
        "# We will fill the empty cotainer array with our list of values\n",
        "data['name'] = name\n",
        "data['age'] = age\n",
        "data['weight'] = weight\n",
        "print(data)"
      ],
      "execution_count": null,
      "outputs": [
        {
          "output_type": "stream",
          "text": [
            "[('Alice', 25, 55. ) ('Bob', 45, 85.5) ('Cathy', 37, 68. )\n",
            " ('Doug', 19, 61.5)]\n"
          ],
          "name": "stdout"
        }
      ]
    },
    {
      "cell_type": "code",
      "metadata": {
        "id": "JQ0JvDd6NASU",
        "outputId": "3205e8e3-c25c-4a97-c6c6-175bcd2f2235"
      },
      "source": [
        "# Now we can use names or indexes\n",
        "data['name']"
      ],
      "execution_count": null,
      "outputs": [
        {
          "output_type": "execute_result",
          "data": {
            "text/plain": [
              "array(['Alice', 'Bob', 'Cathy', 'Doug'], dtype='<U10')"
            ]
          },
          "metadata": {
            "tags": []
          },
          "execution_count": 206
        }
      ]
    },
    {
      "cell_type": "code",
      "metadata": {
        "id": "ltPbJaRfNASU",
        "outputId": "13d08842-0634-4265-ee09-0e948f44be56"
      },
      "source": [
        "# First row of data\n",
        "data[0]"
      ],
      "execution_count": null,
      "outputs": [
        {
          "output_type": "execute_result",
          "data": {
            "text/plain": [
              "('Alice', 25, 55.)"
            ]
          },
          "metadata": {
            "tags": []
          },
          "execution_count": 207
        }
      ]
    },
    {
      "cell_type": "code",
      "metadata": {
        "id": "jRACICOTNASU",
        "outputId": "6910bd4d-c225-4f05-ddf6-f7153bf5e9e8"
      },
      "source": [
        "# Getting name from last row\n",
        "data[-1]['name']"
      ],
      "execution_count": null,
      "outputs": [
        {
          "output_type": "execute_result",
          "data": {
            "text/plain": [
              "'Doug'"
            ]
          },
          "metadata": {
            "tags": []
          },
          "execution_count": 208
        }
      ]
    },
    {
      "cell_type": "code",
      "metadata": {
        "id": "PvyWS1HLNASV",
        "outputId": "640a8ed0-135a-4f86-f829-9dd3f10a7b9f"
      },
      "source": [
        "# Getting name with age < 30\n",
        "data[data['age']<30]['name']"
      ],
      "execution_count": null,
      "outputs": [
        {
          "output_type": "execute_result",
          "data": {
            "text/plain": [
              "array(['Alice', 'Doug'], dtype='<U10')"
            ]
          },
          "metadata": {
            "tags": []
          },
          "execution_count": 209
        }
      ]
    },
    {
      "cell_type": "code",
      "metadata": {
        "id": "a2whn-azNASW"
      },
      "source": [
        "# Pandas provides a DataFrame object, which is a structure built on NumPy arrays. \n",
        "# It offers a variety of useful data manipulation functionality similar to what we’ve seen here"
      ],
      "execution_count": null,
      "outputs": []
    },
    {
      "cell_type": "code",
      "metadata": {
        "id": "eJUeqZrQNASX",
        "outputId": "a020eaf5-a4ae-4e8d-a41c-2e1832e9a47b"
      },
      "source": [
        "# Field can be accessed as attributes rather than dictionary keys through record arrays. \n",
        "# However, there is an overhead using this method when accessing the fields\n",
        "data_rec = data.view(np.recarray)\n",
        "data['age'], data_rec.age"
      ],
      "execution_count": null,
      "outputs": [
        {
          "output_type": "execute_result",
          "data": {
            "text/plain": [
              "(array([25, 45, 37, 19]), array([25, 45, 37, 19]))"
            ]
          },
          "metadata": {
            "tags": []
          },
          "execution_count": 211
        }
      ]
    },
    {
      "cell_type": "code",
      "metadata": {
        "id": "Ma6sdwI2NASY"
      },
      "source": [
        ""
      ],
      "execution_count": null,
      "outputs": []
    }
  ]
}