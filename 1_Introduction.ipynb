{
  "nbformat": 4,
  "nbformat_minor": 0,
  "metadata": {
    "kernelspec": {
      "display_name": "Python 3",
      "language": "python",
      "name": "python3"
    },
    "language_info": {
      "codemirror_mode": {
        "name": "ipython",
        "version": 3
      },
      "file_extension": ".py",
      "mimetype": "text/x-python",
      "name": "python",
      "nbconvert_exporter": "python",
      "pygments_lexer": "ipython3",
      "version": "3.7.6"
    },
    "colab": {
      "name": "1_Introduction.ipynb",
      "provenance": [],
      "collapsed_sections": [],
      "include_colab_link": true
    }
  },
  "cells": [
    {
      "cell_type": "markdown",
      "metadata": {
        "id": "view-in-github",
        "colab_type": "text"
      },
      "source": [
        "<a href=\"https://colab.research.google.com/github/amzangi/datascience-bootcamp/blob/master/1_Introduction.ipynb\" target=\"_parent\"><img src=\"https://colab.research.google.com/assets/colab-badge.svg\" alt=\"Open In Colab\"/></a>"
      ]
    },
    {
      "cell_type": "code",
      "metadata": {
        "id": "UMTAGg22Vvoj",
        "outputId": "08644b3d-f5bc-4f21-a16a-657848c94728"
      },
      "source": [
        "help(len)"
      ],
      "execution_count": null,
      "outputs": [
        {
          "output_type": "stream",
          "text": [
            "Help on built-in function len in module __builtin__:\n",
            "\n",
            "len(...)\n",
            "    len(object) -> integer\n",
            "    \n",
            "    Return the number of items of a sequence or collection.\n",
            "\n"
          ],
          "name": "stdout"
        }
      ]
    },
    {
      "cell_type": "code",
      "metadata": {
        "id": "bMEXE8kOVvow"
      },
      "source": [
        "len?"
      ],
      "execution_count": null,
      "outputs": []
    },
    {
      "cell_type": "code",
      "metadata": {
        "id": "4Wz2ivfwVvo-"
      },
      "source": [
        "L = [1,2,3]\n",
        "L.insert?"
      ],
      "execution_count": null,
      "outputs": []
    },
    {
      "cell_type": "code",
      "metadata": {
        "id": "psNCRqsOVvo_"
      },
      "source": [
        "L?"
      ],
      "execution_count": null,
      "outputs": []
    },
    {
      "cell_type": "code",
      "metadata": {
        "id": "B0YuzCDYVvpA"
      },
      "source": [
        "def square(x):\n",
        "    \"\"\"Return a square of x\"\"\"\n",
        "    x**2"
      ],
      "execution_count": null,
      "outputs": []
    },
    {
      "cell_type": "code",
      "metadata": {
        "id": "TmylvhwYVvpB"
      },
      "source": [
        "square?"
      ],
      "execution_count": null,
      "outputs": []
    },
    {
      "cell_type": "code",
      "metadata": {
        "id": "hhe8ViirVvpC"
      },
      "source": [
        "square??"
      ],
      "execution_count": null,
      "outputs": []
    },
    {
      "cell_type": "code",
      "metadata": {
        "id": "vWKf0EiUVvpE"
      },
      "source": [
        "# To list of all available attributes of an object. Hit TAB after putting a dot\n",
        "L.<TAB>"
      ],
      "execution_count": null,
      "outputs": []
    },
    {
      "cell_type": "code",
      "metadata": {
        "id": "6Rg6peO0VvpF"
      },
      "source": [
        "%timeit?"
      ],
      "execution_count": null,
      "outputs": []
    },
    {
      "cell_type": "code",
      "metadata": {
        "id": "Huhtha9uVvpG"
      },
      "source": [
        "%magic?"
      ],
      "execution_count": null,
      "outputs": []
    },
    {
      "cell_type": "code",
      "metadata": {
        "id": "ESLqE17PVvpG",
        "outputId": "e9523ba0-58e1-4a2c-f26e-c444f61b7799"
      },
      "source": [
        "print(In)"
      ],
      "execution_count": null,
      "outputs": [
        {
          "output_type": "stream",
          "text": [
            "['', u'L.', u'L.<tab>', u'L.<Tab>', u'L.<TAB>', u\"get_ipython().magic(u'timeit ?')\", u\"get_ipython().magic(u'pinfo %timeit')\", u\"get_ipython().magic(u'pinfo %lsmagic')\", u\"get_ipython().magic(u'pinfo %magic')\", u'print(In)']\n"
          ],
          "name": "stdout"
        }
      ]
    },
    {
      "cell_type": "code",
      "metadata": {
        "id": "c9gUo86_VvpH",
        "outputId": "531c3961-24d2-48d7-c731-ba340aa8132f"
      },
      "source": [
        "print(Out)"
      ],
      "execution_count": null,
      "outputs": [
        {
          "output_type": "stream",
          "text": [
            "{}\n"
          ],
          "name": "stdout"
        }
      ]
    },
    {
      "cell_type": "code",
      "metadata": {
        "id": "LEGqyhOyVvpI",
        "outputId": "af19a4ab-49a4-4dd7-c6cd-f46a74535a43"
      },
      "source": [
        "print(In[2])"
      ],
      "execution_count": null,
      "outputs": [
        {
          "output_type": "stream",
          "text": [
            "L.<tab>\n"
          ],
          "name": "stdout"
        }
      ]
    },
    {
      "cell_type": "code",
      "metadata": {
        "id": "zQgxUS-LVvpJ",
        "outputId": "bc3e1ace-dcc7-434d-c86e-ab360a662068"
      },
      "source": [
        "print(__)"
      ],
      "execution_count": null,
      "outputs": [
        {
          "output_type": "stream",
          "text": [
            "\n"
          ],
          "name": "stdout"
        }
      ]
    },
    {
      "cell_type": "code",
      "metadata": {
        "id": "mJrSWeKSVvpJ",
        "outputId": "43e46c61-7f05-4505-c56e-c4e72d8f200f"
      },
      "source": [
        "%history"
      ],
      "execution_count": null,
      "outputs": [
        {
          "output_type": "stream",
          "text": [
            "L.\n",
            "L.<tab>\n",
            "L.<Tab>\n",
            "L.<TAB>\n",
            "%timeit ?\n",
            "%timeit?\n",
            "%lsmagic?\n",
            "%magic?\n",
            "print(In)\n",
            "print(Out)\n",
            "print(In[2])\n",
            "print(_)\n",
            "print(__)\n",
            "%history\n"
          ],
          "name": "stdout"
        }
      ]
    },
    {
      "cell_type": "code",
      "metadata": {
        "id": "F289jg7yVvpK"
      },
      "source": [
        ""
      ],
      "execution_count": null,
      "outputs": []
    }
  ]
}